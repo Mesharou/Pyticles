{
 "cells": [
  {
   "cell_type": "code",
   "execution_count": 52,
   "metadata": {},
   "outputs": [],
   "source": [
    "#add the Modules folder in your python PATH\n",
    "import sys\n",
    "#sys.path.remove(\"/home2/datahome/jgula/Python_Modules\") #just for JG\n",
    "sys.path.append(\"./Modules/\") \n",
    "\n",
    "#import matplotlib\n",
    "#matplotlib.use('Agg')\n",
    "import matplotlib.pyplot as plt\n",
    "%matplotlib inline\n",
    "\n",
    "#Some standard modules\n",
    "import sys, os\n",
    "import numpy as np\n",
    "import time as tm\n",
    "from netCDF4 import Dataset\n",
    "import numpy.ma as ma\n",
    "\n",
    "#Specific modules needed for pyticles\n",
    "import pyticles_sig_sa as part\n",
    "import pyticles_3d_sig_sa as partF\n",
    "\n",
    "from mpl_toolkits.axes_grid1.inset_locator import inset_axes\n",
    "\n",
    "#Simulations (path, data...)\n",
    "from R_files import load\n",
    "from R_netcdf import ionetcdf"
   ]
  },
  {
   "cell_type": "code",
   "execution_count": 55,
   "metadata": {},
   "outputs": [
    {
     "name": "stdout",
     "output_type": "stream",
     "text": [
      "(7, 10271)\n"
     ]
    }
   ],
   "source": [
    "ncfile = './case1/polgyr_case1_1_1000.nc' #the netcdf file containing particles data\n",
    "\n",
    "fifig = './case1'\n",
    "itime = 2\n",
    "\n",
    "###############################\n",
    "\n",
    "nc = Dataset(ncfile, 'r')\n",
    "parameters = nc.simulation\n",
    "base = nc.base\n",
    "\n",
    "print nc.variables['px'].shape\n",
    "\n",
    "px = nc.variables['px'][itime,:]\n",
    "py = nc.variables['py'][itime,:]\n",
    "pz = nc.variables['pz'][itime,:]\n",
    "\n",
    "ptemp = nc.variables['pt'][itime,:]\n",
    "psalt = nc.variables['ps'][itime,:]\n",
    "\n",
    "plon = nc.variables['plon'][itime,:]\n",
    "plat = nc.variables['plat'][itime,:]\n",
    "pdepth = nc.variables['pdepth'][itime,:]\n",
    "ptopo = nc.variables['ptopo'][itime,:]\n",
    "\n",
    "nc.close()\n"
   ]
  },
  {
   "cell_type": "code",
   "execution_count": 56,
   "metadata": {},
   "outputs": [],
   "source": [
    "ncfile = './case1/polgyr_case1_1_1000_offline.nc' #the netcdf file containing particles data\n",
    "\n",
    "fifig = './case1'\n",
    "itime = 2\n",
    "\n",
    "###############################\n",
    "\n",
    "nc = Dataset(ncfile, 'r')\n",
    "parameters = nc.simulation\n",
    "base = nc.base\n",
    "\n",
    "px2 = nc.variables['px'][itime,:]\n",
    "py2 = nc.variables['py'][itime,:]\n",
    "pz2 = nc.variables['pz'][itime,:]\n",
    "\n",
    "ptemp2 = nc.variables['pt'][itime,:]\n",
    "psalt2 = nc.variables['ps'][itime,:]\n",
    "\n",
    "plon2 = nc.variables['plon'][itime,:]\n",
    "plat2 = nc.variables['plat'][itime,:]\n",
    "pdepth2 = nc.variables['pdepth'][itime,:]\n",
    "ptopo2 = nc.variables['ptopo'][itime,:]\n",
    "\n",
    "nc.close()\n",
    "\n"
   ]
  },
  {
   "cell_type": "code",
   "execution_count": 57,
   "metadata": {},
   "outputs": [
    {
     "name": "stdout",
     "output_type": "stream",
     "text": [
      "1537.58869515 1537.58869515\n",
      "572.588823182 572.588823182\n",
      "79.99 79.99\n",
      " \n",
      "-17.6948809881 -17.6948809881\n",
      "48.4625319914 48.4625319914\n",
      "-0.458808917402 -0.458808917402\n",
      "4479.13446451 4479.13446451\n"
     ]
    },
    {
     "data": {
      "text/plain": [
       "4482.1021461940263"
      ]
     },
     "execution_count": 57,
     "metadata": {},
     "output_type": "execute_result"
    }
   ],
   "source": [
    "#############\n",
    "print px[10], px2[10]\n",
    "print py[10], py2[10]\n",
    "print pz[10], pz2[10]\n",
    "print ' '\n",
    "print plon[10], plon2[10]\n",
    "print plat[10], plat2[10]\n",
    "print pdepth[10], pdepth2[10]\n",
    "print ptopo[10], ptopo2[10]\n",
    "\n",
    "simul.topo[1538,573]"
   ]
  },
  {
   "cell_type": "code",
   "execution_count": 16,
   "metadata": {},
   "outputs": [
    {
     "name": "stdout",
     "output_type": "stream",
     "text": [
      "args ([u'polgyr', u'[0,10000,0,10000,[1,100,1]]', u'1000'],)\n",
      "args[0] [u'polgyr', u'[0,10000,0,10000,[1,100,1]]', u'1000']\n",
      "len(args[0]) 3\n",
      "time of simulation is: 1000\n",
      "coord\n",
      "loading /home/datawork-lops-osi/jgula/POLGYR/polgyr_grd.nc\n",
      "loading /home/datawork-lops-osi/mlecorre/POLGYR/HIS/polgyr_his.01000.nc\n",
      "get domain [0,10000,0,10000,[1,100,1]] [0,10\n",
      "coordmax\n",
      "loading /home/datawork-lops-osi/jgula/POLGYR/polgyr_grd.nc\n",
      "loading /home/datawork-lops-osi/mlecorre/POLGYR/HIS/polgyr_his.01000.nc\n",
      "get domain [0,1e9,0,1e9,[1,1e9,1]] [0,1e\n",
      "cst\n",
      "dt\n",
      "dt is read in  /home/datawork-lops-osi/mlecorre/POLGYR/HIS/polgyr_his.01000.nc\n",
      "[0, 1602, 0, 2002, array([ 1,  2,  3,  4,  5,  6,  7,  8,  9, 10, 11, 12, 13, 14, 15, 16, 17,\n",
      "       18, 19, 20, 21, 22, 23, 24, 25, 26, 27, 28, 29, 30, 31, 32, 33, 34,\n",
      "       35, 36, 37, 38, 39, 40, 41, 42, 43, 44, 45, 46, 47, 48, 49, 50, 51,\n",
      "       52, 53, 54, 55, 56, 57, 58, 59, 60, 61, 62, 63, 64, 65, 66, 67, 68,\n",
      "       69, 70, 71, 72, 73, 74, 75, 76, 77, 78, 79, 80])]\n",
      "ncname0,ny1,ny2,nx1,nx2\n",
      "/home/datawork-lops-osi/jgula/POLGYR/polgyr_grd.nc 0 1602 0 2002\n",
      "[topo,pm,pn,f,lat,lon] have just been loaded\n",
      "----------------------------------------------------------\n",
      "All arrays are now Fortran ordered and indices are [i,j,k]\n",
      "----------------------------------------------------------\n",
      "(2002, 1602)\n"
     ]
    }
   ],
   "source": [
    "# Load simul\n",
    "simul = load(simul = parameters)\n",
    "depths = simul.coord[4]"
   ]
  },
  {
   "cell_type": "code",
   "execution_count": 17,
   "metadata": {},
   "outputs": [
    {
     "data": {
      "text/plain": [
       "<matplotlib.contour.QuadContourSet at 0x7fff30046ad0>"
      ]
     },
     "execution_count": 17,
     "metadata": {},
     "output_type": "execute_result"
    },
    {
     "data": {
      "image/png": "[encoded data removed]",
      "text/plain": [
       "<matplotlib.figure.Figure at 0x7fff28bf1490>"
      ]
     },
     "metadata": {},
     "output_type": "display_data"
    }
   ],
   "source": [
    "plt.contourf(simul.x, simul.y,simul.topo)"
   ]
  },
  {
   "cell_type": "code",
   "execution_count": 18,
   "metadata": {},
   "outputs": [
    {
     "name": "stdout",
     "output_type": "stream",
     "text": [
      "using NEW_S_COORD\n"
     ]
    }
   ],
   "source": [
    "coord =simul.coord[:4];\n",
    "[z_r,z_w] = part.get_depths(simul,coord=coord,x_periodic=x_periodic,y_periodic=y_periodic,ng=ng)"
   ]
  },
  {
   "cell_type": "code",
   "execution_count": 21,
   "metadata": {},
   "outputs": [
    {
     "name": "stdout",
     "output_type": "stream",
     "text": [
      "(2002, 1602, 81)\n",
      "[2002, 1602, 80]\n",
      "mean depth is -0.462708499015\n"
     ]
    }
   ],
   "source": [
    "pdepth = part.map_var(simul,z_w,px,py,pz,ng,coord=coord)\n",
    "[plon,plat] = part.map_lonlat(simul,px,py,ng,coord=coord)\n",
    "ptopo = part.map_topo(simul,px,py,ng,coord=coord)\n",
    "\n",
    "pdepth[plon==0] = np.nan\n",
    "plat[plon==0] = np.nan\n",
    "plon[plon==0] = np.nan\n",
    "\n",
    "##################################################################\n",
    "\n",
    "[u,v,w]=part.get_vel_io(simul,pm=simul.pm,pn=simul.pn,coord=coord)\n"
   ]
  },
  {
   "cell_type": "code",
   "execution_count": null,
   "metadata": {},
   "outputs": [],
   "source": [
    "###################################################################################\n",
    "# plot a vertical section showing topography and particles positions\n",
    "# centered around px0,py0 along the x-axis\n",
    "###################################################################################\n",
    "ip=107\n",
    "py0 = np.int(py[ip]) ; px0 =np.int(px[ip]); res=1.\n",
    "nx1 = px0 - 45; nx2 = px0 + 45\n",
    "ny1 = py0 - 45; ny2 = py0 + 45\n",
    "\n",
    "plt.plot((px[np.abs(py-py0)<1.]-px0)*res,pdepth[np.abs(py-py0)<1.],'o')\n",
    "\n",
    "plt.plot((np.arange(nx1,nx2)-px0)*res,5000*u[nx1:nx2,py0,-1]-25.,'--oy',lw=5.)\n",
    "plt.plot((np.arange(nx1,nx2)-px0)*res,5000*u[nx1:nx2,py0+1,-1]-25.,'-oy',lw=5.)\n",
    "\n",
    "plt.plot((np.arange(nx1,nx2)-px0)*res-0.5,-simul.topo[nx1:nx2,py0],'--or',lw=5.)\n",
    "plt.plot((np.arange(nx1,nx2)-px0)*res-0.5,-simul.topo[nx1:nx2,py0+1],'-or',lw=5.)\n",
    "\n",
    "#plt.plot((np.arange(nx1,nx2)-px0)*res,-part.rho2psi(simul.topo)[nx1:nx2,py0],'--k',lw=5.)\n",
    "#plt.ylim([-100, 0])\n",
    "#plt.xlim([-2, 2])\n"
   ]
  },
  {
   "cell_type": "code",
   "execution_count": null,
   "metadata": {
    "collapsed": true
   },
   "outputs": [],
   "source": []
  }
 ],
 "metadata": {
  "kernelspec": {
   "display_name": "Python 3 (ipykernel)",
   "language": "python",
   "name": "python3"
  },
  "language_info": {
   "codemirror_mode": {
    "name": "ipython",
    "version": 3
   },
   "file_extension": ".py",
   "mimetype": "text/x-python",
   "name": "python",
   "nbconvert_exporter": "python",
   "pygments_lexer": "ipython3",
   "version": "3.10.9"
  }
 },
 "nbformat": 4,
 "nbformat_minor": 2
}
