{
 "cells": [
  {
   "cell_type": "markdown",
   "id": "8e704874",
   "metadata": {
    "tags": []
   },
   "source": [
    "# CROCO variable manipulation\n",
    "\n",
    "This notebook explores how to manipulate CROCO variables using R_files,\n",
    "R_vars and R_tools.\n",
    "\n",
    "Note that is also possible to manipulate them using straight netcdf file but\n",
    "this is not topic of this notebook.\n",
    "\n",
    "**It is also a good way to check if your Pyticles simulation is correctly set in R_files.py\n",
    "and Input_file.py**\n",
    "\n",
    "\n",
    "- Find CROCO files using R_files\n",
    "- Load CROCO variables using R_vars \n",
    "- Compute CROCO variables using R_tools\n"
   ]
  },
  {
   "cell_type": "code",
   "execution_count": null,
   "id": "a29c8edb",
   "metadata": {},
   "outputs": [],
   "source": [
    "import sys\n",
    "import numpy as np\n",
    "import scipy.stats as st\n",
    "\n",
    "import matplotlib.pyplot as plt\n",
    "\n",
    "# --> project related modules\n",
    "sys.path.append('../../Modules/')\n",
    "#sys.path.append('../../pyticles/Modules/R_tools')\n",
    "\n",
    "# --> where your simulation is defined (croco path etc...)\n",
    "# see plot_strain_vorticity for more details\n",
    "from R_files import load\n",
    "\n",
    "# classic Roms_tools\n",
    "import R_tools as tools\n",
    "\n",
    "# some ROMS tools written in .F (much faster)\n",
    "import R_tools_fort as toolsF\n",
    "\n",
    "# Compute (Some) Croco variables\n",
    "from R_vars import var"
   ]
  },
  {
   "cell_type": "markdown",
   "id": "7c35f86f",
   "metadata": {},
   "source": [
    "## Find CROCO files using Rfiles\n",
    "\n",
    "Let's take POLGYR simulation for instance\n",
    "\n",
    "Look at pyticles/Modules/R_files.py load Class documentation in the cell below\n",
    "\n",
    "To initialize a simulation we need:\n",
    "\n",
    "- a simulation name: `polgyr`\n",
    "\n",
    "- optionaly coordinates to zoom: [iy_min, iy_max, ix_min, ix_max, ...]\n",
    " \n",
    "  With zoom indices in rho-coordinates iy means eta dimension and ix xi-dimension\n",
    "  \n",
    "- optionaly a time to load: `0`\n",
    "\n",
    "  time to load is in CROCO output time [unit]\n",
    "\n",
    "\n",
    "```Bash\n",
    "# example with gigatl 1h outputs only surface fields\n",
    "parameters = \"gigatl1_1h_surf [10500,11300,4750,5550,[1,300,1]] 36648\"\n",
    "simul = load(simul=parameters, output=False)\n",
    "```"
   ]
  },
  {
   "cell_type": "code",
   "execution_count": null,
   "id": "76b07191-6088-4263-8cd3-5e2e7e796031",
   "metadata": {},
   "outputs": [],
   "source": [
    "###########################\n",
    "# Pick a simulation and time\n",
    "\n",
    "simulname = 'polgyr'; \n",
    "time = 0\n",
    "\n",
    "####################################\n",
    "# Pick a grid point and a domain size\n",
    "laty = 500\n",
    "latx = 500\n",
    "size = 400\n",
    "\n",
    "###################################################################################\n",
    "# Load simulation over the zoomed region\n",
    "ix1 = np.max([0, latx-size])\n",
    "ix2 = latx + size\n",
    "iy1 = np.max([0, laty-size])\n",
    "iy2 = laty + size\n",
    "\n",
    "# --> to zoom over region\n",
    "parameters = f\"{simulname} [{iy1},{iy2},{ix1},{ix2},[1,300,1]] {time}\"\n",
    "print(f\"parameters = {parameters}\")\n",
    "print()\n",
    "\n",
    "simul = load(simul=parameters, output=False)\n",
    "\n",
    "print(simul.date)"
   ]
  },
  {
   "cell_type": "markdown",
   "id": "42e7360b-1f44-4ce8-b4ee-3eae3017a703",
   "metadata": {},
   "source": [
    "Note that simul is initialized like in Pyticles `Inputs/input_file.py`\n",
    "\n",
    "Now to check if `input_file.py` is correct we can use the update method from R_files\n",
    "\n",
    "let's initiate a `tstart` and look at fields that would be loaded by Pyticles.\n",
    "\n",
    "For example if there is 2 years of spinup for CROCO simulation, \n",
    "I can start after these two years, with a dt = 12 hours, using 365 days/year\n",
    "and with a dt=12h in CROCO outputs leads to tstart = 24*3600/dt * 2 * 365"
   ]
  },
  {
   "cell_type": "code",
   "execution_count": null,
   "id": "9951c796-7792-4fc4-aaf6-fd5fe7250d36",
   "metadata": {},
   "outputs": [],
   "source": [
    "simul.update(time=0)\n",
    "print(f\"CROCO initial date at tstart=0 {simul.year, simul.date}\")\n",
    "print(f\"CROCO in file time-step {simul.infiletime}\")\n",
    "print(f\"CROCO netcdf file {simul.ncfile}\")\n",
    "print(f\"CROCO output time-step {simul.dt} [seconds] or {simul.dt/3600} [hours]\")\n",
    "print()\n",
    "\n",
    "tstart = (24*3600/simul.dt * 2 * 365)\n",
    "simul.update(time=tstart)\n",
    "print(f\"CROCO initial date at tstart={tstart} {simul.year, simul.date}\")\n"
   ]
  },
  {
   "cell_type": "markdown",
   "id": "1ed77d48",
   "metadata": {},
   "source": [
    "## Using rvars\n",
    "\n",
    "In the header of `pyticles/Modules/R_tools/R_vars.py` we can see that \n",
    "salt, temp, rho, rho1, buoy, are defined in the dictionnary"
   ]
  },
  {
   "cell_type": "code",
   "execution_count": null,
   "id": "d00e0c5b",
   "metadata": {
    "tags": []
   },
   "outputs": [],
   "source": [
    "# R_vars documentation\n",
    "print(var.__doc__)\n",
    "print(\"list of variables accessible with R_vars:\")\n",
    "var.dico"
   ]
  },
  {
   "cell_type": "markdown",
   "id": "3c5baeb8-7f54-4074-9a5e-456f9586a8dc",
   "metadata": {},
   "source": [
    "## "
   ]
  },
  {
   "cell_type": "markdown",
   "id": "a688fe7d-d848-4ee0-a859-2a29843fcd5b",
   "metadata": {},
   "source": [
    "Note on R_vars and R_tools\n",
    "\n",
    "R_vars returns a var object, with .data (array values) and some metadata.\n",
    "To get the ndarray use var(...).data\n",
    "\n",
    "    salt = var('salt', simul).data\n",
    "    # salt is now a numpy.ndarray object\n",
    "\n",
    "This will return a 3D variable with dimension xi_rho, eta_rho, s_rho \n",
    "(if netcdf file is 3D-time). Or 2D variable with dimension xi_rho, eta_rho \n",
    "if netcdf file contains 2D-time variables\n",
    "\n",
    "To rephrase R_vars documentation, to extract a 2D field there are several options\n",
    "\n",
    "    depth <= 0 means depths in meters\n",
    "    depth = 0 means surface\n",
    "    depth > 0 means sigma-level (1 = bottom [0 in netcdf file],...\n",
    "                         ..., Nz = surface [Nz-1 in netcdf file])\n",
    "\n",
    "<div class=\"alert alert-block alert-info\">\n",
    "<b>Warning:</b> all tools are Fortran based (CROCO ocean model is in Fortran) and Fortran\n",
    "arrays are stored in Memory is the opposite way to Python. So croco data shall be\n",
    "computed in Fortran order (do nothing) but displayed in C order (using np.transpose, or .T method)\n",
    "</div>\n",
    "\n",
    "    plt.pcolormesh(salt.T)"
   ]
  },
  {
   "cell_type": "code",
   "execution_count": null,
   "id": "482d3576-d9f9-4b10-bff3-ca618a9514ac",
   "metadata": {},
   "outputs": [],
   "source": [
    "# takes 3D salinity at time tsart\n",
    "salt = var('salt', simul).data\n",
    "print(salt.shape)\n",
    "\n",
    "# Get surface temperature\n",
    "sst = var('temp', simul, depths=np.array([0])).data\n",
    "plt.figure()\n",
    "plt.pcolormesh(simul.x.T, simul.y.T, np.ma.masked_invalid(sst.T),\n",
    "               rasterized=True)\n",
    "plt.colorbar()"
   ]
  },
  {
   "cell_type": "code",
   "execution_count": null,
   "id": "5a533b79-f028-4c1b-a493-bcaa88c6a509",
   "metadata": {},
   "outputs": [],
   "source": [
    "# vertical section at y = 400 in the first 1000 m depth\n",
    "iy = 400\n",
    "depths = np.arange(-1000, 0.1, 20)\n",
    "z_temp = var('temp', simul, depths=depths).data\n",
    "\n",
    "plt.figure()\n",
    "[zy_plt, y_plt] = np.meshgrid(depths, simul.x[:, iy])\n",
    "plt.pcolormesh(y_plt.T, zy_plt.T, z_temp[:, iy, :].T, rasterized=True)\n",
    "plt.xlabel('longitude')\n",
    "plt.ylabel('depth')\n",
    "plt.title('Potential temperature')\n",
    "plt.colorbar()\n",
    "\n",
    "# Note for only a section, vertical interpolation of 2D fields\n",
    "# can be time-consumming.\n",
    "# A solution would habe been to use coord keyword argument to load a much \n",
    "# smaller portion of the domain."
   ]
  },
  {
   "cell_type": "markdown",
   "id": "17744448-ee69-4618-83fe-1ad2b8036185",
   "metadata": {},
   "source": [
    "## Gradient using R_tools and R_vars\n",
    "\n",
    "Here we explore some usage of R_tools to compute some variables that may not\n",
    "be present either in Netcdf files or in R_vars and tools"
   ]
  },
  {
   "cell_type": "code",
   "execution_count": null,
   "id": "8f28e946",
   "metadata": {},
   "outputs": [],
   "source": [
    "# --> compute surface density gradient\n",
    "depths = np.array([0])\n",
    "salt = var('salt', simul, depths=depths).data\n",
    "temp = var('temp', simul, depths=depths).data\n",
    "\n",
    "grad_salt = tools.grad(salt, simul.pm, simul.pn)\n",
    "grad_temp = tools.grad(temp, simul.pm, simul.pn)\n",
    "\n",
    "# --> plot vars\n",
    "my_cmap = 'coolwarm'\n",
    "sss_min = 30\n",
    "sss_max = np.nanmax(salt)\n",
    "fig, axes = plt.subplots(1, 2, figsize=(18.0, 6.0))\n",
    "im0 = axes[0].pcolormesh(simul.x.T, simul.y.T, np.ma.masked_invalid(salt.T),\n",
    "                   cmap=my_cmap, rasterized=True, vmin=sss_min, vmax=sss_max)\n",
    "plt.colorbar(im0, ax=axes[0])\n",
    "im1 = axes[1].pcolormesh(simul.x.T, simul.y.T, np.ma.masked_invalid(temp.T),\n",
    "                   cmap=my_cmap, rasterized=True)\n",
    "plt.colorbar(im1, ax=axes[1])\n",
    "\n",
    "# --> plot gradients\n",
    "levels_s = np.arange(0, 1.01, 0.01) * 2 * 1e-4\n",
    "levels_r = np.arange(0, 1.01, 0.01) * 1e-3\n",
    "\n",
    "my_cmap = 'Reds'\n",
    "fig, axes = plt.subplots(1, 2, figsize=(18.0, 6.0))\n",
    "im0 = axes[0].pcolormesh(simul.x.T, simul.y.T, np.ma.masked_invalid(grad_salt.T),\n",
    "                         cmap='Reds', vmin=min(levels_s), vmax=max(levels_s),\n",
    "                         rasterized=True)\n",
    "plt.colorbar(im0, ax=axes[0])\n",
    "im1 = axes[1].pcolormesh(simul.x.T, simul.y.T, np.ma.masked_invalid(grad_temp.T),\n",
    "                         cmap='Reds',  vmin=min(levels_r), vmax=max(levels_r),\n",
    "                         rasterized=True)\n",
    "plt.colorbar(im1, ax=axes[1])"
   ]
  },
  {
   "cell_type": "markdown",
   "id": "2d54e500",
   "metadata": {},
   "source": [
    "## Gradient for any CROCO variable\n",
    "\n",
    "It is important to have in mind that CROCO variables are located on the Arakawa C-grid\n",
    "https://www.myroms.org/wiki/File:grid_cell.png\n",
    "\n",
    "    psi(i,j+1)---v(i,j+1)---psi(i+1, j+1)\n",
    "     |                            |\n",
    "     u(i,j)     rho(i,j)     u(i+1, j)\n",
    "     |                            |\n",
    "    psi(i,j)-----v(i,j)-----psi(i+1,j)\n",
    "    \n",
    "    \n",
    "### Variables location:\n",
    "- zeta, temp, salt, and any tracer are located at rho-points\n",
    "- u is at u-points\n",
    "- v is at v-points\n",
    "\n",
    "### Operators\n",
    "When using differential operators to a variable the result is located at the geometric center of the operator.\n",
    "Example dx u => rho-points. So the divergence of 2d flow `dx u + dy v` is located at rho-points  \n",
    "\n",
    "- vorticity ? dx v - dy u => psi-points\n",
    "\n",
    "**To compute the proper gradient variables MUST BE at rho points**\n",
    "\n",
    "R_tools provide a set of functions that interpolate variables from a grid location \n",
    "to another.\n",
    "\n",
    "- `psi2rho`: interpolate a psi-variable to rho-points\n",
    "- `u2rho`:  interpolate a u-variable to rho-points\n",
    "- `v2rho`:  interpolate a v-variable to rho-pointsx\n",
    "\n",
    "### Example with vorticity gradient\n",
    "\n",
    "- Load vorticity from R_vars_gula.py or compute it \"manually\"\n",
    "- Interpolate vort to rho points with R_tools\n",
    "- Compute the gradient"
   ]
  },
  {
   "cell_type": "code",
   "execution_count": null,
   "id": "aa1f0598",
   "metadata": {},
   "outputs": [],
   "source": [
    "%%time\n",
    "depths = [0]\n",
    "# --> using R_vars.py\n",
    "vrt = tools.psi2rho(var('vrt', simul, depths=depths).data)\n",
    "grad_vrt = tools.psi2rho(tools.grad(vrt, simul.pm, simul.pn))\n"
   ]
  },
  {
   "cell_type": "code",
   "execution_count": null,
   "id": "a4ce60b5",
   "metadata": {
    "tags": []
   },
   "outputs": [],
   "source": [
    "# --> display results\n",
    "my_cmap = 'seismic'\n",
    "plt.figure(figsize=(12, 9))\n",
    "plt.pcolormesh(simul.x.T, simul.y.T, (vrt/simul.f).T,vmin=-2, vmax=2,\n",
    "               cmap=my_cmap, rasterized=True)\n",
    "plt.colorbar()\n",
    "\n",
    "my_cmap = 'Reds'\n",
    "plt.figure(figsize=(12, 9))\n",
    "plt.pcolormesh(simul.x.T, simul.y.T, (grad_vrt/simul.f).T,\n",
    "               vmin=None, vmax=0.5*1e-3, cmap=my_cmap, rasterized=True)\n",
    "plt.colorbar()"
   ]
  },
  {
   "cell_type": "code",
   "execution_count": null,
   "id": "3021a734",
   "metadata": {},
   "outputs": [],
   "source": [
    "%%time\n",
    "# --> manually compute the gradient using R_tools operators\n",
    "u = var('u', simul, depths=depths).data\n",
    "v = var('v', simul, depths=depths).data\n",
    "\n",
    "dxv = tools.diffx(v, tools.rho2v(simul.pm))\n",
    "dyu = tools.diffy(u, tools.rho2u(simul.pn))\n",
    "\n",
    "vrt = tools.psi2rho(dxv - dyu)/simul.f\n",
    "grad_vrt = tools.psi2rho(tools.grad(vrt, simul.pm, simul.pn))"
   ]
  },
  {
   "cell_type": "code",
   "execution_count": null,
   "id": "34b7a359",
   "metadata": {},
   "outputs": [],
   "source": [
    "my_cmap = 'Reds'\n",
    "plt.figure(figsize=(12, 9))\n",
    "plt.pcolormesh(simul.x.T, simul.y.T, grad_vrt,\n",
    "               vmin=None, vmax=0.5*1e-3, cmap=my_cmap, rasterized=True)\n",
    "plt.colorbar()"
   ]
  },
  {
   "cell_type": "markdown",
   "id": "46f566d5",
   "metadata": {},
   "source": [
    "### Note on operators\n",
    "\n",
    "<div class=\"alert alert-block alert-info\">\n",
    "<b>Tip:</b>If a shape error occurs when computing variables, this is probably due\n",
    "a grid location error\n",
    "</div>\n",
    "\n",
    "\n",
    "Example"
   ]
  },
  {
   "cell_type": "code",
   "execution_count": null,
   "id": "9e3f35dc",
   "metadata": {},
   "outputs": [],
   "source": [
    "u = var('u', simul, depths=depths).data\n",
    "v = var('v', simul, depths=depths).data\n",
    "\n",
    "dxv = tools.diffx(v, tools.rho2v(simul.pm))\n",
    "dyu = tools.diffy(u, tools.rho2u(simul.pn))\n",
    "\n",
    "try:\n",
    "    # vrt is at psi point, but coriolis parameter is at rho points\n",
    "    # Therefore shape of vrt is (nx_rho-1, nx_rho-1)\n",
    "    vrt = (dxv - dyu)/simul.f\n",
    "except Exception as e:\n",
    "    print(e)\n",
    "    # solution is to interpolate vrt from psi-points to rho-points\n",
    "    vrt = tools.psi2rho(dxv - dyu)/simul.f\n",
    "    \n",
    "print(f\"after interpolation vrt.shape={vrt.shape}\")"
   ]
  }
 ],
 "metadata": {
  "kernelspec": {
   "display_name": "pyticles-pp-3.11",
   "language": "python",
   "name": "pyticles-pp-3.11"
  },
  "language_info": {
   "codemirror_mode": {
    "name": "ipython",
    "version": 3
   },
   "file_extension": ".py",
   "mimetype": "text/x-python",
   "name": "python",
   "nbconvert_exporter": "python",
   "pygments_lexer": "ipython3",
   "version": "3.11.6"
  }
 },
 "nbformat": 4,
 "nbformat_minor": 5
}
