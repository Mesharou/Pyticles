{
 "cells": [
  {
   "cell_type": "markdown",
   "id": "8e704874",
   "metadata": {
    "tags": []
   },
   "source": [
    "# CROCO variable manipulation\n",
    "\n",
    "This notebook explores how to manipulate CROCO variables using R_files,\n",
    "R_vars_gula and R_tools.\n",
    "\n",
    "Note that is also possible to manipulate them using straight netcdf file but\n",
    "this is not topic of this notebook.\n",
    "\n",
    "**It is also a good way to check if your Pyticles simulation is correctly set in R_files.py\n",
    "and Input_file.py**\n"
   ]
  },
  {
   "cell_type": "code",
   "execution_count": 4,
   "id": "a29c8edb",
   "metadata": {},
   "outputs": [
    {
     "ename": "ModuleNotFoundError",
     "evalue": "No module named 'R_files'",
     "output_type": "error",
     "traceback": [
      "\u001b[0;31m---------------------------------------------------------------------------\u001b[0m",
      "\u001b[0;31mModuleNotFoundError\u001b[0m                       Traceback (most recent call last)",
      "\u001b[0;32m<ipython-input-4-3d60bdc1afe4>\u001b[0m in \u001b[0;36m<module>\u001b[0;34m\u001b[0m\n\u001b[1;32m     11\u001b[0m \u001b[0;31m# --> where your simulation is defined (croco path etc...)\u001b[0m\u001b[0;34m\u001b[0m\u001b[0;34m\u001b[0m\u001b[0;34m\u001b[0m\u001b[0m\n\u001b[1;32m     12\u001b[0m \u001b[0;31m# see plot_strain_vorticity for more details\u001b[0m\u001b[0;34m\u001b[0m\u001b[0;34m\u001b[0m\u001b[0;34m\u001b[0m\u001b[0m\n\u001b[0;32m---> 13\u001b[0;31m \u001b[0;32mfrom\u001b[0m \u001b[0mR_files\u001b[0m \u001b[0;32mimport\u001b[0m \u001b[0mload\u001b[0m\u001b[0;34m\u001b[0m\u001b[0;34m\u001b[0m\u001b[0m\n\u001b[0m\u001b[1;32m     14\u001b[0m \u001b[0;34m\u001b[0m\u001b[0m\n\u001b[1;32m     15\u001b[0m \u001b[0;31m# classic Roms_tools\u001b[0m\u001b[0;34m\u001b[0m\u001b[0;34m\u001b[0m\u001b[0;34m\u001b[0m\u001b[0m\n",
      "\u001b[0;31mModuleNotFoundError\u001b[0m: No module named 'R_files'"
     ]
    }
   ],
   "source": [
    "import sys\n",
    "import numpy as np\n",
    "import scipy.stats as st\n",
    "\n",
    "import matplotlib.pyplot as plt\n",
    "\n",
    "# --> project related modules\n",
    "sys.path.append('../../Modules/')\n",
    "#sys.path.append('../../pyticles/Modules/R_tools')\n",
    "\n",
    "# --> where your simulation is defined (croco path etc...)\n",
    "# see plot_strain_vorticity for more details\n",
    "from R_files import load\n",
    "\n",
    "# classic Roms_tools\n",
    "import R_tools as tools\n",
    "\n",
    "# some ROMS tools written in .F (much faster)\n",
    "import R_tools_fort as toolsF\n",
    "\n",
    "# Compute (Some) Croco variables\n",
    "from R_vars import var"
   ]
  },
  {
   "cell_type": "code",
   "execution_count": 5,
   "id": "a95f2493-332b-4976-af50-acea65ae03d6",
   "metadata": {},
   "outputs": [
    {
     "name": "stdout",
     "output_type": "stream",
     "text": [
      "['/home2/datahome/jcollin/conda-env/pyticles-nc-NETCDF4.3.3.1-mpt-intel2016/lib/python36.zip', '/home2/datahome/jcollin/conda-env/pyticles-nc-NETCDF4.3.3.1-mpt-intel2016/lib/python3.6', '/home2/datahome/jcollin/conda-env/pyticles-nc-NETCDF4.3.3.1-mpt-intel2016/lib/python3.6/lib-dynload', '', '/home2/datahome/jcollin/conda-env/pyticles-nc-NETCDF4.3.3.1-mpt-intel2016/lib/python3.6/site-packages', '/home2/datahome/jcollin/conda-env/pyticles-nc-NETCDF4.3.3.1-mpt-intel2016/lib/python3.6/site-packages/IPython/extensions', '/home2/datahome/jcollin/.ipython', '../../Modules/', '../../Modules/', '../../Modules/']\n"
     ]
    }
   ],
   "source": [
    "print(sys.path)"
   ]
  },
  {
   "cell_type": "markdown",
   "id": "7c35f86f",
   "metadata": {},
   "source": [
    "## find CROCO files using R_files\n",
    "\n",
    "Let's take POLGYR simulation for instance\n",
    "\n",
    "Look at pyticles/Modules/R_files.py load Class documentation in the cell below\n",
    "\n",
    "To initialize a simulation we need:\n",
    "\n",
    "- a simulation name: gigatl1_1h_surf\n",
    "\n",
    "- optionally coordinates to zoom: [iy_min, iy_max, ix_min, ix_max, ...]\n",
    "  With zoom indices in rho-coordinates\n",
    "  \n",
    "- optionaly a time to load:  36648\n",
    "\n",
    "  Here this means 36648 CROCO output time steps after the first file step\n",
    "\n",
    "```Bash\n",
    "    parameters = \"gigatl1_1h_surf [10500,11300,4750,5550,[1,300,1]] 36648\"\n",
    "    simul = load(simul=parameters, output=False)\n",
    "```"
   ]
  },
  {
   "cell_type": "code",
   "execution_count": null,
   "id": "76b07191-6088-4263-8cd3-5e2e7e796031",
   "metadata": {},
   "outputs": [],
   "source": [
    "###########################\n",
    "# Pick a simulation and time\n",
    "\n",
    "simulname = 'polgyr'; \n",
    "\n",
    "#time = 44928 # 2009-03-01\n",
    "#time = 48600 # 2009-08-01\n",
    "#time = 36648 + 24*2# 2008-03-21\n",
    "#time = 40368 # 2008-08-23\n",
    "time = 0\n",
    "\n",
    "####################################\n",
    "# Pick a grid point and a domain size\n",
    "laty = 500\n",
    "latx = 500\n",
    "size = 400\n",
    "\n",
    "###################################################################################\n",
    "# Load simulation over the zoomed region\n",
    "ix1 = np.max([0, latx-size])\n",
    "ix2 = latx + size\n",
    "iy1 = np.max([0, laty-size])\n",
    "iy2 = laty + size\n",
    "\n",
    "# --> to zoom over region\n",
    "parameters = f\"{simulname} [{iy1},{iy2},{ix1},{ix2},[1,300,1]] {time}\"\n",
    "print(f\"parameters = {parameters}\")\n",
    "print()\n",
    "\n",
    "simul = load(simul=parameters, output=False)\n",
    "\n",
    "print(simul.date)"
   ]
  },
  {
   "cell_type": "markdown",
   "id": "42e7360b-1f44-4ce8-b4ee-3eae3017a703",
   "metadata": {},
   "source": [
    "Note that simul is initialize like in Pyticles `Inputs/input_file.py`\n",
    "\n",
    "Now to check if inpiut_file is correct we can use the update method from R_files\n",
    "\n",
    "let's initiate a tstart and look at fields that would be loaded by Pyticles.\n",
    "\n",
    "For example if there is 2 years of spinup for CROCO simulation, \n",
    "I can start after these two years, with a dt = 12 hours, using 365 days/year\n",
    "and with a dt=12h in CROCO outputs leads to tstart = 24*3600/dt * 2 * 365\n",
    "\n",
    "    "
   ]
  },
  {
   "cell_type": "code",
   "execution_count": 41,
   "id": "9951c796-7792-4fc4-aaf6-fd5fe7250d36",
   "metadata": {},
   "outputs": [
    {
     "name": "stdout",
     "output_type": "stream",
     "text": [
      "time of simulation is: 0\n",
      "/home/datawork-lops-osi/mlecorre/POLGYR/HIS/polgyr_his.00000.nc\n",
      "CROCO initial date at tstart=0 (2001, 'Jan 10 - 14:53')\n",
      "CROCO in file time-step 0\n",
      "CROCO netcdf file /home/datawork-lops-osi/mlecorre/POLGYR/HIS/polgyr_his.00000.nc\n",
      "CROCO output time-step 43200.0 [seconds] or 12.0 [hours]\n",
      "\n",
      "time of simulation is: 1460\n",
      "/home/datawork-lops-osi/mlecorre/POLGYR/HIS/polgyr_his.01460.nc\n",
      "CROCO initial date at tstart=1460.0 (2003, 'Jan 10 - 14:53')\n"
     ]
    }
   ],
   "source": [
    "simul.update(time=0)\n",
    "print(f\"CROCO initial date at tstart=0 {simul.year, simul.date}\")\n",
    "print(f\"CROCO in file time-step {simul.infiletime}\")\n",
    "print(f\"CROCO netcdf file {simul.ncfile}\")\n",
    "print(f\"CROCO output time-step {simul.dt} [seconds] or {simul.dt/3600} [hours]\")\n",
    "print()\n",
    "\n",
    "tstart = (24*3600/simul.dt * 2 * 365)\n",
    "simul.update(time=tstart)\n",
    "print(f\"CROCO initial date at tstart={tstart} {simul.year, simul.date}\")\n"
   ]
  },
  {
   "cell_type": "markdown",
   "id": "1ed77d48",
   "metadata": {},
   "source": [
    "## using rvars\n",
    "\n",
    "In the header of `pyticles/Modules/R_tools/R_var_gula.py` we can see that \n",
    "salt, temp, rho, rho1, buoy, gradbuoy2 are defined in the dictionnary"
   ]
  },
  {
   "cell_type": "code",
   "execution_count": null,
   "id": "d00e0c5b",
   "metadata": {
    "tags": []
   },
   "outputs": [],
   "source": [
    "# R_vars_gula documentation\n",
    "print(var.__doc__)\n",
    "\n",
    "print(\"list of variables accessible with R_vars:\")\n",
    "var.dico"
   ]
  },
  {
   "cell_type": "markdown",
   "id": "e58d3620",
   "metadata": {},
   "source": [
    "## Note on R_vars and R_tools\n",
    "\n",
    "R_vars returns a var object, with .data (array values) and some metadata.\n",
    "To get the ndarray use var(...).data\n",
    "\n",
    "    salt = var('salt', simul).data\n",
    "    # salt is now a numpy.ndarray object\n",
    "\n",
    "<div class=\"alert alert-block alert-info\">\n",
    "<b>Warning:</b> all tools are Fortran based (CROCO ocean model is in Fortran) and Fortran\n",
    "arrays are stored in Memory is the opposite way to Python. So croco data shall be\n",
    "computed in Fortran order (do nothing) but displayed in C order (using np.transpose, or .T method)\n",
    "</div>\n",
    "\n",
    "\n",
    "    plt.pcolormesh(salt.T)\n",
    "\n",
    "## Gradient using R_tools and R_vars\n"
   ]
  },
  {
   "cell_type": "code",
   "execution_count": null,
   "id": "8f28e946",
   "metadata": {},
   "outputs": [],
   "source": [
    "# --> compute gradient\n",
    "salt = var('salt', simul).data\n",
    "temp = var('temp', simul).data\n",
    "\n",
    "grad_salt = tools.grad(salt, simul.pm, simul.pn)\n",
    "grad_temp = tools.grad(temp, simul.pm, simul.pn)\n",
    "\n",
    "# --> plot vars\n",
    "my_cmap = plot.nc_colormap('jaisnc')\n",
    "fig, axes = plt.subplots(1, 2, figsize=(18.0, 6.0))\n",
    "im0 = axes[0].pcolormesh(simul.x.T, simul.y.T, np.ma.masked_invalid(salt.T),\n",
    "                   cmap=my_cmap, rasterized=True)\n",
    "plt.colorbar(im0, ax=axes[0])\n",
    "im1 = axes[1].pcolormesh(simul.x.T, simul.y.T, np.ma.masked_invalid(temp.T),\n",
    "                   cmap=my_cmap, rasterized=True)\n",
    "plt.colorbar(im1, ax=axes[1])\n",
    "\n",
    "# --> plot gradients\n",
    "levels_s = np.arange(0, 1.01, 0.01) * 2 * 1e-4\n",
    "levels_r = np.arange(0, 1.01, 0.01) * 1e-3\n",
    "\n",
    "my_cmap = plot.nc_colormap('jaisnc')\n",
    "fig, axes = plt.subplots(1, 2, figsize=(18.0, 6.0))\n",
    "im0 = axes[0].pcolormesh(simul.x.T, simul.y.T, np.ma.masked_invalid(grad_salt.T),\n",
    "                         cmap='Reds', vmin=min(levels_s), vmax=max(levels_s),\n",
    "                         rasterized=True)\n",
    "plt.colorbar(im0, ax=axes[0])\n",
    "im1 = axes[1].pcolormesh(simul.x.T, simul.y.T, np.ma.masked_invalid(grad_temp.T),\n",
    "                         cmap='Reds',  vmin=min(levels_r), vmax=max(levels_r),\n",
    "                         rasterized=True)\n",
    "plt.colorbar(im1, ax=axes[1])"
   ]
  },
  {
   "cell_type": "markdown",
   "id": "2d54e500",
   "metadata": {},
   "source": [
    "## Gradient for any CROCO variable\n",
    "\n",
    "It is important to have in mind that CROCO variables are located on the Arakawa C-grid\n",
    "https://www.myroms.org/wiki/File:grid_cell.png\n",
    "\n",
    "    psi(i,j+1)---v(i,j+1)---psi(i+1, j+1)\n",
    "     |                            |\n",
    "     u(i,j)     rho(i,j)     u(i+1, j)\n",
    "     |                            |\n",
    "    psi(i,j)-----v(i,j)-----psi(i+1,j)\n",
    "    \n",
    "    \n",
    "### Variables location:\n",
    "- zeta, temp, salt, and any tracer are located at rho-points\n",
    "- u is at u-points\n",
    "- v is at v-points\n",
    "\n",
    "### Operators\n",
    "When using differential operators to a variable the result is located at the geometric center of the operator.\n",
    "Example dx u => rho-points. So the divergence of 2d flow `dx u + dy v` is located at rho-points  \n",
    "\n",
    "- vorticity ? dx v - dy u => psi-points\n",
    "\n",
    "**To compute the proper gradient variables MUST BE at rho points**\n",
    "\n",
    "R_tools provide a set of functions that interpolate variables from a grid location \n",
    "to another.\n",
    "\n",
    "- `psi2rho`: interpolate a psi-variable to rho-points\n",
    "- `u2rho`:  interpolate a u-variable to rho-points\n",
    "- `v2rho`:  interpolate a v-variable to rho-pointsx\n",
    "\n",
    "### Example with vorticity gradient\n",
    "\n",
    "- Load vorticity from R_vars_gula.py or compute it \"manually\"\n",
    "- Interpolate vort to rho points with R_tools\n",
    "- Compute the gradient"
   ]
  },
  {
   "cell_type": "code",
   "execution_count": null,
   "id": "aa1f0598",
   "metadata": {},
   "outputs": [],
   "source": [
    "%%time\n",
    "# --> using R_vars_gula.py\n",
    "vrt = tools.psi2rho(var('vrt', simul).data)\n",
    "grad_vrt = tools.psi2rho(tools.grad(vrt, simul.pm, simul.pn))\n"
   ]
  },
  {
   "cell_type": "code",
   "execution_count": null,
   "id": "a4ce60b5",
   "metadata": {
    "tags": []
   },
   "outputs": [],
   "source": [
    "\n",
    "my_cmap=plot.nc_colormap('blu_red')\n",
    "plt.figure(figsize=(12, 9))\n",
    "plt.pcolormesh(simul.x.T, simul.y.T, (vrt/simul.f).T,vmin=-2, vmax=2,\n",
    "               cmap=my_cmap, rasterized=True)\n",
    "plt.colorbar()\n",
    "\n",
    "my_cmap=plot.nc_colormap('blu_red')\n",
    "plt.figure(figsize=(12, 9))\n",
    "plt.pcolormesh(simul.x.T, simul.y.T, grad_vrt/simul.f.T,\n",
    "               vmin=None, vmax=2*1e-3, cmap='Reds', rasterized=True)\n",
    "plt.colorbar()"
   ]
  },
  {
   "cell_type": "code",
   "execution_count": null,
   "id": "3021a734",
   "metadata": {},
   "outputs": [],
   "source": [
    "%%time\n",
    "# --> manually compute the gradient using R_tools operators\n",
    "u = var('u', simul).data\n",
    "v = var('v', simul).data\n",
    "\n",
    "dxv = tools.diffx(v, tools.rho2v(simul.pm))\n",
    "dyu = tools.diffy(u, tools.rho2u(simul.pn))\n",
    "\n",
    "vrt = tools.psi2rho(dxv - dyu)/simul.f\n",
    "grad_vrt = tools.psi2rho(tools.grad(vrt, simul.pm, simul.pn))"
   ]
  },
  {
   "cell_type": "code",
   "execution_count": null,
   "id": "34b7a359",
   "metadata": {},
   "outputs": [],
   "source": [
    "my_cmap = plot.nc_colormap('blu_red')\n",
    "plt.figure(figsize=(12, 9))\n",
    "plt.pcolormesh(simul.x.T, simul.y.T, grad_vrt,\n",
    "               vmin=None, vmax=2*1e-3, cmap='Reds', rasterized=True)\n",
    "plt.colorbar()"
   ]
  },
  {
   "cell_type": "markdown",
   "id": "46f566d5",
   "metadata": {},
   "source": [
    "### Note on operators\n",
    "\n",
    "<div class=\"alert alert-block alert-info\">\n",
    "<b>Tip:</b>If a shape error occurs when computing variables, this is probably due\n",
    "a grid location error\n",
    "</div>\n",
    "\n",
    "\n",
    "Example"
   ]
  },
  {
   "cell_type": "code",
   "execution_count": null,
   "id": "9e3f35dc",
   "metadata": {},
   "outputs": [],
   "source": [
    "u = var('u', simul).data\n",
    "v = var('v', simul).data\n",
    "\n",
    "dxv = tools.diffx(v, tools.rho2v(simul.pm))\n",
    "dyu = tools.diffy(u, tools.rho2u(simul.pn))\n",
    "\n",
    "try:\n",
    "    # vrt is at psi point, but coriolis parameter is at rho points\n",
    "    # Therefore shape of vrt is (nx_rho-1, nx_rho-1)\n",
    "    vrt = (dxv - dyu)/simul.f\n",
    "except Exception as e:\n",
    "    print(e)\n",
    "    # solution is to interpolate vrt from psi-points to rho-points\n",
    "    vrt = tools.psi2rho(dxv - dyu)/simul.f\n",
    "    \n",
    "print(f\"after interpolation vrt.shape={vrt.shape}\")"
   ]
  }
 ],
 "metadata": {
  "kernelspec": {
   "display_name": "Pyticles",
   "language": "python",
   "name": "pyticles"
  },
  "language_info": {
   "codemirror_mode": {
    "name": "ipython",
    "version": 3
   },
   "file_extension": ".py",
   "mimetype": "text/x-python",
   "name": "python",
   "nbconvert_exporter": "python",
   "pygments_lexer": "ipython3",
   "version": "3.6.13"
  }
 },
 "nbformat": 4,
 "nbformat_minor": 5
}
