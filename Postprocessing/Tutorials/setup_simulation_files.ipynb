{
 "cells": [
  {
   "cell_type": "markdown",
   "id": "07a047d4-559a-48de-8daf-3cf95b7c7c6e",
   "metadata": {},
   "source": [
    "# How to set up ROMS/CROCO simulation\n",
    "\n",
    "Here we will see how to set up ROMS/CROCO files and time for Pyticles. \n",
    "\n",
    "Method is based using Modules/R_files.py Classes files and load.\n",
    "\n",
    "___\n",
    "## Setting up files\n",
    "\n",
    "To set up your files you must chose a simulation name and add a switch in \n",
    "files Class where you define all files parameters. Here is an example of a\n",
    "croco simulation named `polgyr`\n",
    "\n",
    "```Python\n",
    "# in R_files.py in files()\n",
    "elif 'polgyr' in simul:\n",
    "    \n",
    "    '''\n",
    "    time 00000 is 2001-01-10 14:53:20\n",
    "    time 06511 is 2009-12-10 02:53:20\n",
    "    \n",
    "    conversion to uncompressed for 2006 = from 3620 to ...\n",
    "    '''\n",
    "    \n",
    "    self.realyear = True\n",
    "    self.realyear_origin = datetime(1999,1,1)\n",
    "    self.model = 'croco'\n",
    "    self.digits = 5\n",
    "\n",
    "    folder= '/home/datawork-lops-osi/mlecorre/POLGYR/HIS/'\n",
    "    self.grd='/home/datawork-lops-osi/mlecorre/POLGYR/INIT/polgyr_grd.nc'\n",
    "\n",
    "    self.his=folder +'polgyr_his.'\n",
    "\n",
    "    self.frc=folder + '/polgyr_his.03360.nc'\n",
    "    self.wind=folder + '/polgyr_his.03360.nc'\n",
    "    self.tfile=20\n",
    "    self.tstart=0\n",
    "    self.tend=1000\n",
    "\n",
    "```\n",
    "    \n",
    "Configuration name: 'polgyr'\n",
    "\n",
    "### model\n",
    "\n",
    "model used to produce file. It is crucial to determine file names and\n",
    "and to update file time stepping\n",
    "\n",
    "- **croco/ucla:** files like `'polgyr_his_03660.nc'`. Note that number of digits can\n",
    "    be defined by user\n",
    "\n",
    "- **croco_clim:** CROCO naming for climatology runs with fixed number of\n",
    "  outputs per file (usually 30 per month). `roms_his_Y2000M1.nc`\n",
    "\n",
    "- **croco_inter:** CROCO naming for interannual runs with varying number of\n",
    "  days per month. Also `roms_his_Y2000M1.nc` but 31 days in this one.\n",
    "\n",
    "- **croco_xios** CROCO naming with XIOS CPP key:  `croco_1999-01-25-1999-01-29.nc`\n",
    "\n",
    "### file naming and location\n",
    "\n",
    "- **his** is used as a suffix for file naming\n",
    "\n",
    "- **grid** should point to grid file (or file with grid parameters)\n",
    "\n",
    "- **frc** and **wind** are optionnal\n",
    "\n",
    "- **fileformat**: prefix of the file `.nc` most likely\n",
    "\n",
    "### metadata parameters\n",
    "\n",
    "- **realyear** is True for real calendar, otherwise 360 days and 30 days per month\n",
    "\n",
    "- **realyear_origin**: datetime used for t=0 in croco simulation.\n",
    "  This is also the date used to load at __init__ method of load()\n",
    "  Class from R_files.py\n",
    "\n",
    "- **realyear_tstart**: date that matched t_start=0 for Pyticles.\n",
    "  This is very usefull when spinup is removed on disk to save some space.\n",
    "  Typicall case is to remove a few years, then origin date and start date\n",
    "  are different. \n",
    "\n",
    "- **digits**: number of digits to name files (2: 00, 3: 000, ...)\n",
    "\n",
    "- **dtfile**: time step of ROMS/CROCO file in seconds\n",
    "\n",
    "- **tfile** number of time steps per file (when fixed)\n",
    "\n",
    "- **tstart**: time step within CROCO/ROMS file to start from. Usually it is\n",
    "  set to zero, but it is possible to start from any time step between 0 and\n",
    "  the number of time steps within the first file \n",
    "\n",
    "- **tend**: last time of simulation, take it big.\n",
    "\n",
    "___\n",
    "## practical case\n",
    "\n",
    "It is a good practise before running to Pyticles to ensure that files are\n",
    "correctly named and that time stepping is alright.\n"
   ]
  },
  {
   "cell_type": "code",
   "execution_count": 7,
   "id": "e8affe81-2af9-4c84-a403-8646d67dde56",
   "metadata": {},
   "outputs": [],
   "source": [
    "import sys\n",
    "import numpy as np\n",
    "\n",
    "# pyticles related modules and tools\n",
    "sys.path.append(\"../../Modules/\")\n",
    "from R_files import load"
   ]
  },
  {
   "cell_type": "markdown",
   "id": "5731147a-ecfa-44e0-ba1d-b4c3a6521aa3",
   "metadata": {},
   "source": [
    "here we load CROCO files from Polgyr simulation (available on Datarmor)\n",
    "\n",
    "output logs should give you some information about simulation files and variables."
   ]
  },
  {
   "cell_type": "code",
   "execution_count": 10,
   "id": "1df519ba-0a31-4d14-83cf-1227b91d2c9b",
   "metadata": {},
   "outputs": [
    {
     "name": "stdout",
     "output_type": "stream",
     "text": [
      "simulname is polgyr\n",
      "args (['polgyr'],)\n",
      "args[0] ['polgyr']\n",
      "len(args[0]) 1\n",
      "time of simulation is: 0\n",
      "coord\n",
      "loading /home/datawork-lops-osi/mlecorre/POLGYR/INIT/polgyr_grd.nc\n",
      "loading /home/datawork-lops-osi/mlecorre/POLGYR/HIS/polgyr_his.00000.nc\n",
      "get domain [0,10000,0,10000,[1,1000,1]] [0,10\n",
      "coordmax\n",
      "loading /home/datawork-lops-osi/mlecorre/POLGYR/INIT/polgyr_grd.nc\n",
      "loading /home/datawork-lops-osi/mlecorre/POLGYR/HIS/polgyr_his.00000.nc\n",
      "get domain [0,1e9,0,1e9,[1,1e9,1]] [0,1e\n",
      "cst\n",
      "read Cs_r in ncfile.Cs_r\n",
      "dt\n",
      "dt is read in  /home/datawork-lops-osi/mlecorre/POLGYR/HIS/polgyr_his.00000.nc\n",
      "[0, 1602, 0, 2002, array([ 1,  2,  3,  4,  5,  6,  7,  8,  9, 10, 11, 12, 13, 14, 15, 16, 17,\n",
      "       18, 19, 20, 21, 22, 23, 24, 25, 26, 27, 28, 29, 30, 31, 32, 33, 34,\n",
      "       35, 36, 37, 38, 39, 40, 41, 42, 43, 44, 45, 46, 47, 48, 49, 50, 51,\n",
      "       52, 53, 54, 55, 56, 57, 58, 59, 60, 61, 62, 63, 64, 65, 66, 67, 68,\n",
      "       69, 70, 71, 72, 73, 74, 75, 76, 77, 78, 79, 80])]\n",
      "ncname0,ny1,ny2,nx1,nx2\n",
      "/home/datawork-lops-osi/mlecorre/POLGYR/INIT/polgyr_grd.nc 0 1602 0 2002\n",
      "[topo,pm,pn,f,lat,lon] have just been loaded\n",
      "----------------------------------------------------------\n",
      "All arrays are now Fortran ordered and indices are [i,j,k]\n",
      "----------------------------------------------------------\n",
      "(2002, 1602)\n"
     ]
    }
   ],
   "source": [
    "my_simul = 'polgyr'\n",
    "simul = load(my_simul)"
   ]
  },
  {
   "cell_type": "markdown",
   "id": "86a02db9-0f1a-4b36-81b2-d2008b25f1c5",
   "metadata": {},
   "source": [
    "To check that time stepping is alright\n",
    "\n",
    "- time 00000 is 2001-01-10 14:53:20\n",
    "\n",
    "- and time 06511 is 2009-12-10 02:53:20\n",
    "\n",
    "Using load method, and filetime, infiletime attributes"
   ]
  },
  {
   "cell_type": "code",
   "execution_count": 20,
   "id": "73dff644-2a1a-4262-a7df-685f87c2e3c1",
   "metadata": {},
   "outputs": [
    {
     "name": "stdout",
     "output_type": "stream",
     "text": [
      "time of simulation is: 6511\n",
      "/home/datawork-lops-osi/mlecorre/POLGYR/HIS/polgyr_his.06500.nc\n",
      "simul.date='Dec 10 - 02:53'\n",
      "simul.year=2009\n",
      "simul.infiletime=11\n"
     ]
    }
   ],
   "source": [
    "simul.update(time=6511)\n",
    "\n",
    "# currently loaded date\n",
    "print(f\"{simul.date=}\")\n",
    "\n",
    "# current year\n",
    "print(f\"{simul.year=}\")\n",
    "\n",
    "# time step in file\n",
    "print(f\"{simul.infiletime=}\")"
   ]
  }
 ],
 "metadata": {
  "kernelspec": {
   "display_name": "pyticles-pp-3.11",
   "language": "python",
   "name": "pyticles-pp-3.11"
  },
  "language_info": {
   "codemirror_mode": {
    "name": "ipython",
    "version": 3
   },
   "file_extension": ".py",
   "mimetype": "text/x-python",
   "name": "python",
   "nbconvert_exporter": "python",
   "pygments_lexer": "ipython3",
   "version": "3.11.6"
  }
 },
 "nbformat": 4,
 "nbformat_minor": 5
}
