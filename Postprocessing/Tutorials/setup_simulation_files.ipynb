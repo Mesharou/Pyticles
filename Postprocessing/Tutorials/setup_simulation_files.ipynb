{
 "cells": [
  {
   "cell_type": "markdown",
   "id": "07a047d4-559a-48de-8daf-3cf95b7c7c6e",
   "metadata": {},
   "source": [
    "# How to set up ROMS/CROCO simulation\n",
    "\n",
    "Here we will see how to set up ROMS/CROCO files and time for Pyticles. \n",
    "\n",
    "Method is based using Modules/R_files.py Classes files and load.\n",
    "\n",
    "___\n",
    "## Setting up files\n",
    "\n",
    "To set up your files you must chose a simulation name and add a switch in \n",
    "files Class where you define all files parameters. Here is an example of a\n",
    "croco simulation named `polgyr`\n",
    "\n",
    "```Python\n",
    "# in R_files.py in files()\n",
    "elif 'polgyr' in simul:\n",
    "    \n",
    "    '''\n",
    "    time 00000 is 2001-01-10 14:53:20\n",
    "    time 06511 is 2009-12-10 02:53:20\n",
    "    \n",
    "    conversion to uncompressed for 2006 = from 3620 to ...\n",
    "    '''\n",
    "    \n",
    "    self.realyear = True\n",
    "    self.realyear_origin = datetime(1999,1,1)\n",
    "    self.model = 'croco'\n",
    "    self.digits = 5\n",
    "\n",
    "    folder= '/home/datawork-lops-osi/mlecorre/POLGYR/HIS/'\n",
    "    self.grd='/home/datawork-lops-osi/mlecorre/POLGYR/INIT/polgyr_grd.nc'\n",
    "\n",
    "    self.his=folder +'polgyr_his.'\n",
    "\n",
    "    self.frc=folder + '/polgyr_his.03360.nc'\n",
    "    self.wind=folder + '/polgyr_his.03360.nc'\n",
    "    self.tfile=20\n",
    "    self.tstart=0\n",
    "    self.tend=1000\n",
    "\n",
    "```\n",
    "    \n",
    "Configuration name: 'polgyr'\n",
    "\n",
    "### model\n",
    "\n",
    "model used to produce file. It is crucial to determine file names and\n",
    "and to update file time stepping\n",
    "\n",
    "- **croco/ucla:** files like `'polgyr_his_03660.nc'`. Note that number of digits can\n",
    "    be defined by user\n",
    "\n",
    "- **croco_clim:** CROCO naming for climatology runs with fixed number of\n",
    "  outputs per file (usually 30 per month). `roms_his_Y2000M1.nc`\n",
    "\n",
    "- **croco_inter:** CROCO naming for interannual runs with varying number of\n",
    "  days per month. Also `roms_his_Y2000M1.nc` but 31 days in this one.\n",
    "\n",
    "- **croco_xios** CROCO naming with XIOS CPP key:  `croco_1999-01-25-1999-01-29.nc`\n",
    "\n",
    "### file naming and location\n",
    "\n",
    "- **his** is used as a suffix for file naming\n",
    "\n",
    "- **grid** should point to grid file (or file with grid parameters)\n",
    "\n",
    "- **frc** and **wind** are optionnal\n",
    "\n",
    "- **fileformat**: prefix of the file `.nc` most likely\n",
    "\n",
    "### metadata parameters\n",
    "\n",
    "- **realyear** is True for real calendar, otherwise 360 days and 30 days per month\n",
    "\n",
    "- **realyear_origin**: datetime used for t=0 in croco simulation.\n",
    "  This is also the date used to load at __init__ method of load()\n",
    "  Class from R_files.py\n",
    "\n",
    "- **realyear_tstart**: date that matched t_start=0 for Pyticles.\n",
    "  This is very usefull when spinup is removed on disk to save some space.\n",
    "  Typicall case is to remove a few years, then origin date and start date\n",
    "  are different. \n",
    "\n",
    "- **digits**: number of digits to name files (2: 00, 3: 000, ...)\n",
    "\n",
    "- **dtfile**: time step of ROMS/CROCO file in seconds\n",
    "\n",
    "- **tfile** number of time steps per file (when fixed)\n",
    "\n",
    "- **tstart**: time step within CROCO/ROMS file to start from. Usually it is\n",
    "  set to zero, but it is possible to start from any time step between 0 and\n",
    "  the number of time steps within the first file \n",
    "\n",
    "- **tend**: last time of simulation, take it big.\n",
    "\n",
    "___\n",
    "## practical case\n",
    "\n",
    "It is a good practise before running to Pyticles to ensure that files are\n",
    "correctly named and that time stepping is alright.\n"
   ]
  },
  {
   "cell_type": "code",
   "execution_count": 11,
   "id": "e8affe81-2af9-4c84-a403-8646d67dde56",
   "metadata": {},
   "outputs": [],
   "source": [
    "import sys\n",
    "import numpy as np\n",
    "from importlib import reload\n",
    "\n",
    "# pyticles related modules and tools\n",
    "sys.path.append(\"../../Modules/\")\n",
    "import R_files\n",
    "from R_files import load\n",
    "reload(R_files)\n",
    "from R_files import load"
   ]
  },
  {
   "cell_type": "markdown",
   "id": "5731147a-ecfa-44e0-ba1d-b4c3a6521aa3",
   "metadata": {},
   "source": [
    "here we load CROCO files from Polgyr simulation (available on Datarmor)\n",
    "\n",
    "output logs should give you some information about simulation files and variables."
   ]
  },
  {
   "cell_type": "code",
   "execution_count": 2,
   "id": "1df519ba-0a31-4d14-83cf-1227b91d2c9b",
   "metadata": {},
   "outputs": [
    {
     "name": "stdout",
     "output_type": "stream",
     "text": [
      "simulname is polgyr\n",
      "args (['polgyr'],)\n",
      "args[0] ['polgyr']\n",
      "len(args[0]) 1\n",
      "time of simulation is: 0\n",
      "/scratch/Jcollin/croco/polgyr/polgyr_his.00000.nc\n",
      "not touching _his file, loading _grd anyway\n",
      "[0, -1, 0, -1, [0]]\n",
      "ncname0,ny1,ny2,nx1,nx2\n",
      "/scratch/Jcollin/croco/polgyr/polgyr_grd.nc 0 -1 0 -1\n",
      "[topo,pm,pn,f,lat,lon] have just been loaded\n",
      "----------------------------------------------------------\n",
      "All arrays are now Fortran ordered and indices are [i,j,k]\n",
      "----------------------------------------------------------\n",
      "(2002, 1602)\n"
     ]
    }
   ],
   "source": [
    "my_simul = 'polgyr'\n",
    "simul = load(my_simul, touchfile=False)"
   ]
  },
  {
   "cell_type": "markdown",
   "id": "86a02db9-0f1a-4b36-81b2-d2008b25f1c5",
   "metadata": {},
   "source": [
    "To check that time stepping is alright\n",
    "\n",
    "- time 00000 is 2001-01-10 14:53:20\n",
    "\n",
    "- and time 06511 is 2009-12-10 02:53:20\n",
    "\n",
    "Using load method, and filetime, infiletime attributes\n",
    "\n",
    "**NOTE** This only works when file is on disk"
   ]
  },
  {
   "cell_type": "code",
   "execution_count": 3,
   "id": "73dff644-2a1a-4262-a7df-685f87c2e3c1",
   "metadata": {},
   "outputs": [
    {
     "name": "stdout",
     "output_type": "stream",
     "text": [
      "time of simulation is: 6511\n",
      "/scratch/Jcollin/croco/polgyr/polgyr_his.06500.nc\n",
      "no oceantime in file\n",
      "file not in disk ?\n"
     ]
    }
   ],
   "source": [
    "simul.update(time=6511)\n",
    "\n",
    "# currently loaded date\n",
    "\n",
    "try:\n",
    "    print(f\"{simul.date=}\")\n",
    "    # current year\n",
    "    print(f\"{simul.year=}\")\n",
    "    # time step in file\n",
    "    print(f\"{simul.infiletime=}\")\n",
    "    \n",
    "except:\n",
    "    print(\"file not in disk ?\")"
   ]
  },
  {
   "cell_type": "code",
   "execution_count": 22,
   "id": "6071093c-6bb5-458c-95d2-253a6b554315",
   "metadata": {},
   "outputs": [
    {
     "name": "stdout",
     "output_type": "stream",
     "text": [
      "simulname is None\n",
      "args (['megatl3'],)\n",
      "args[0] ['megatl3']\n",
      "len(args[0]) 1\n",
      "time of simulation is: 0\n",
      "/net/libra/local/tmp/1//gula/ROMS/Simulations/MEGATL/MEGATL3/MEGATL3_v2/megatl3_his.00000.nc\n",
      "not touching _his file, loading _grd anyway\n",
      "[0, -1, 0, -1, [0]]\n",
      "time of simulation is: 100\n",
      "/scratch/Jcollin/croco/polgyr/polgyr_his.00100.nc\n",
      "no oceantime in file\n",
      "croco\n"
     ]
    },
    {
     "ename": "AttributeError",
     "evalue": "'files' object has no attribute 'dtfile'",
     "output_type": "error",
     "traceback": [
      "\u001b[0;31m---------------------------------------------------------------------------\u001b[0m",
      "\u001b[0;31mAttributeError\u001b[0m                            Traceback (most recent call last)",
      "Cell \u001b[0;32mIn[22], line 10\u001b[0m\n\u001b[1;32m      7\u001b[0m simul\u001b[38;5;241m.\u001b[39mupdate(time\u001b[38;5;241m=\u001b[39m\u001b[38;5;241m100\u001b[39m)\n\u001b[1;32m      9\u001b[0m \u001b[38;5;28mprint\u001b[39m(simul\u001b[38;5;241m.\u001b[39mncname\u001b[38;5;241m.\u001b[39mmodel)\n\u001b[0;32m---> 10\u001b[0m \u001b[38;5;28mprint\u001b[39m(\u001b[43msimul\u001b[49m\u001b[38;5;241;43m.\u001b[39;49m\u001b[43mncname\u001b[49m\u001b[38;5;241;43m.\u001b[39;49m\u001b[43mdtfile\u001b[49m)\n",
      "\u001b[0;31mAttributeError\u001b[0m: 'files' object has no attribute 'dtfile'"
     ]
    }
   ],
   "source": [
    "my_simul = 'megatl3'\n",
    "try:\n",
    "    simul = load(simul=my_simul, touchfile=False)\n",
    "except:\n",
    "    pass\n",
    "\n",
    "simul.update(time=100)\n",
    "\n",
    "print(simul.ncname.model)"
   ]
  },
  {
   "cell_type": "code",
   "execution_count": 23,
   "id": "11e8937a-4504-46d1-a252-d570effec931",
   "metadata": {},
   "outputs": [
    {
     "name": "stdout",
     "output_type": "stream",
     "text": [
      "simulname is None\n",
      "args (['natl_GS'],)\n",
      "args[0] ['natl_GS']\n",
      "len(args[0]) 1\n",
      "file is  /data0/project/meddle/gula/ROMS/Simulations/GS//all/natl_his_Y2000M01.0862.nc\n",
      "/data0/project/meddle/gula/ROMS/Simulations/GS//all/natl_his_Y2000M01.0862.nc\n",
      "not touching _his file, loading _grd anyway\n",
      "[0, -1, 0, -1, [0]]\n",
      "time of simulation is: 100\n",
      "/scratch/Jcollin/croco/polgyr/polgyr_his.00100.nc\n",
      "no oceantime in file\n",
      "croco\n"
     ]
    }
   ],
   "source": [
    "# croco_lionel ? \n",
    "my_simul = 'natl_GS'\n",
    "try:\n",
    "    simul = load(simul=my_simul, touchfile=False)\n",
    "except:\n",
    "    pass\n",
    "\n",
    "simul.update(time=100)\n",
    "\n",
    "print(simul.ncname.model)"
   ]
  },
  {
   "cell_type": "code",
   "execution_count": 2,
   "id": "c3d30e74-1741-4552-bcaf-92f2c47af56b",
   "metadata": {},
   "outputs": [
    {
     "name": "stdout",
     "output_type": "stream",
     "text": [
      "simulname is None\n",
      "args (['aacc_8k'],)\n",
      "args[0] ['aacc_8k']\n",
      "len(args[0]) 1\n",
      "/net/octant/local/tmp/1/collin/Gpla_8k/roms_his_Y20M1.nc\n",
      "not touching _his file, loading _grd anyway\n",
      "[0, -1, 0, -1, [0]]\n"
     ]
    },
    {
     "ename": "NameError",
     "evalue": "name 'simul' is not defined",
     "output_type": "error",
     "traceback": [
      "\u001b[0;31m---------------------------------------------------------------------------\u001b[0m",
      "\u001b[0;31mNameError\u001b[0m                                 Traceback (most recent call last)",
      "Cell \u001b[0;32mIn[2], line 9\u001b[0m\n\u001b[1;32m      6\u001b[0m \u001b[38;5;28;01mexcept\u001b[39;00m:\n\u001b[1;32m      7\u001b[0m     \u001b[38;5;28;01mpass\u001b[39;00m\n\u001b[0;32m----> 9\u001b[0m \u001b[43msimul\u001b[49m\u001b[38;5;241m.\u001b[39mupdate(time\u001b[38;5;241m=\u001b[39m\u001b[38;5;241m100\u001b[39m)\n\u001b[1;32m     11\u001b[0m \u001b[38;5;28mprint\u001b[39m(simul\u001b[38;5;241m.\u001b[39mncname\u001b[38;5;241m.\u001b[39mmodel)\n",
      "\u001b[0;31mNameError\u001b[0m: name 'simul' is not defined"
     ]
    }
   ],
   "source": [
    "# agrif climatology\n",
    "my_simul = 'aacc_8k'\n",
    "\n",
    "try:\n",
    "    simul = load(simul=my_simul, touchfile=False)\n",
    "except:\n",
    "    pass\n",
    "\n",
    "simul.update(time=100)\n",
    "\n",
    "print(simul.ncname.model)"
   ]
  },
  {
   "cell_type": "code",
   "execution_count": 31,
   "id": "141c03dd-60a5-4b0f-b320-5e13b8479da8",
   "metadata": {},
   "outputs": [
    {
     "name": "stdout",
     "output_type": "stream",
     "text": [
      "simulname is None\n",
      "args (['aacc_8k'],)\n",
      "args[0] ['aacc_8k']\n",
      "len(args[0]) 1\n",
      "/net/octant/local/tmp/1/collin/Gpla_8k/roms_his_Y20M1.nc\n",
      "not touching _his file, loading _grd anyway\n",
      "file is  /net/octant/local/tmp/1/collin/Gpla_8k/roms_his_Y20M11.nc\n",
      "/net/octant/local/tmp/1/collin/Gpla_8k/roms_his_Y20M11.nc\n",
      "no oceantime in file\n",
      "/net/octant/local/tmp/1/collin/Gpla_8k/roms_his_Y20M11.nc\n",
      "1\n"
     ]
    }
   ],
   "source": [
    "\"\"\"\n",
    "Example with AGRIF model. \n",
    "Need to set up self.model = 'agrif' in Class files from R_files  \n",
    "\n",
    "- a) climatology files (self.realyear = False)\n",
    "    roms_his_Y2000M1.nc\n",
    "    with 30 days per month and 12 months per year\n",
    "\n",
    "- b) interannual files (self.realyear = True)\n",
    "\n",
    "\"\"\"\n",
    "\n",
    "reload(R_files)\n",
    "from R_files import load\n",
    "\n",
    "my_simul = 'aacc_8k'\n",
    "simul = load(simul=my_simul, touchfile=False, loadgrid=False)\n",
    "\n",
    "simul.update(time=101)\n",
    "\n",
    "print(simul.ncfile)\n",
    "print(simul.infiletime)\n"
   ]
  },
  {
   "cell_type": "code",
   "execution_count": null,
   "id": "b6e874d8-75c9-421f-a66e-431ad1693a31",
   "metadata": {},
   "outputs": [],
   "source": []
  }
 ],
 "metadata": {
  "kernelspec": {
   "display_name": "swot",
   "language": "python",
   "name": "swot"
  },
  "language_info": {
   "codemirror_mode": {
    "name": "ipython",
    "version": 3
   },
   "file_extension": ".py",
   "mimetype": "text/x-python",
   "name": "python",
   "nbconvert_exporter": "python",
   "pygments_lexer": "ipython3",
   "version": "3.10.12"
  }
 },
 "nbformat": 4,
 "nbformat_minor": 5
}
