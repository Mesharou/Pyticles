{
 "cells": [
  {
   "cell_type": "code",
   "execution_count": 3,
   "metadata": {},
   "outputs": [],
   "source": [
    "\"\"\"\n",
    "script to load filter particles (reached square at z_reach) \n",
    "and interpolate variable on it\n",
    "beta testing before script \n",
    "\"\"\"\n",
    "# ----------------------------------------------------------------------------\n",
    "import numpy as np\n",
    "import numpy.ma as ma\n",
    "from netCDF4 import Dataset\n",
    "import matplotlib.pyplot as plt\n",
    "import time\n",
    "import os\n",
    "import sys\n",
    "# from numba import jit\n",
    "import ctypes\n",
    "import multiprocessing as mp\n",
    "import warnings\n",
    "\n",
    "# pyticles related modules and tools\n",
    "sys.path.append(\"../../Modules/\")\n",
    "import pyticles_sig_sa as part\n",
    "import R_vars as va\n",
    "from R_files import load\n",
    "import xarray as xr\n"
   ]
  },
  {
   "cell_type": "code",
   "execution_count": 4,
   "metadata": {},
   "outputs": [],
   "source": [
    "def var_shape(grid_type, coord=None, simul=None):\n",
    "    \"\"\"\n",
    "    return variable shape according to it's roms-grid\n",
    "    \n",
    "    parameters : str, grid (grid type)\n",
    "                - rho: for tracers (t, s, rho)\n",
    "                - rho-w: for w\n",
    "                - psi: for vorticity \n",
    "                - psi-w ?\n",
    "                - u zonal velocity\n",
    "                - v meridional velocity      \n",
    "    \"\"\"\n",
    "    if coord is None:\n",
    "        coord = simul.coord[0:4]\n",
    "        \n",
    "    [j0, j1, i0, i1]=coord\n",
    "    \n",
    "    # --> horizontal shape\n",
    "    if 'rho' in grid_type:\n",
    "        nx = i1 - i0\n",
    "        ny = j1 - j0\n",
    "    elif 'psi' in grid_type:\n",
    "        nx = i1 - i0 - 1\n",
    "        ny = j1 - j0 - 1\n",
    "    elif 'u' in grid_type:\n",
    "        nx = i1 - i0 - 1\n",
    "        ny = j1 - j0\n",
    "    elif 'v' in grid_type:\n",
    "        nx = i1 - i0\n",
    "        ny = j1 - j0 - 1\n",
    "    \n",
    "    # vertical shape\n",
    "    if 'w' in grid_type:\n",
    "        nz = np.max(simul.coord[4]) + 1\n",
    "    else:\n",
    "        nz = np.max(simul.coord[4])\n",
    "        \n",
    "    return nx, ny, nz"
   ]
  },
  {
   "cell_type": "code",
   "execution_count": 5,
   "metadata": {},
   "outputs": [],
   "source": [
    "def tight_coord(px, py):\n",
    "    \"tight coordinates for interpolation\"\n",
    "    coord = np.array([np.floor(np.nanmin(py)), np.ceil(np.nanmax(py)),\n",
    "                np.floor(np.nanmin(px)), np.ceil(np.nanmax(px))], dtype=int)\n",
    "    return None"
   ]
  },
  {
   "cell_type": "code",
   "execution_count": 6,
   "metadata": {},
   "outputs": [
    {
     "name": "stderr",
     "output_type": "stream",
     "text": [
      "/home2/datahome/jcollin/conda-env/pyticles_pp/lib/python3.7/site-packages/distributed/node.py:155: UserWarning: Port 8787 is already in use.\n",
      "Perhaps you already have a cluster running?\n",
      "Hosting the HTTP server on port 56566 instead\n",
      "  http_address[\"port\"], self.http_server.port\n"
     ]
    },
    {
     "data": {
      "text/html": [
       "<table style=\"border: 2px solid white;\">\n",
       "<tr>\n",
       "<td style=\"vertical-align: top; border: 0px solid white\">\n",
       "<h3 style=\"text-align: left;\">Client</h3>\n",
       "<ul style=\"text-align: left; list-style: none; margin: 0; padding: 0;\">\n",
       "  <li><b>Scheduler: </b>tcp://127.0.0.1:37359</li>\n",
       "  <li><b>Dashboard: </b><a href='http://127.0.0.1:56566/status' target='_blank'>http://127.0.0.1:56566/status</a></li>\n",
       "</ul>\n",
       "</td>\n",
       "<td style=\"vertical-align: top; border: 0px solid white\">\n",
       "<h3 style=\"text-align: left;\">Cluster</h3>\n",
       "<ul style=\"text-align: left; list-style:none; margin: 0; padding: 0;\">\n",
       "  <li><b>Workers: </b>8</li>\n",
       "  <li><b>Cores: </b>56</li>\n",
       "  <li><b>Memory: </b>123.48 GB</li>\n",
       "</ul>\n",
       "</td>\n",
       "</tr>\n",
       "</table>"
      ],
      "text/plain": [
       "<Client: 'tcp://127.0.0.1:37359' processes=8 threads=56, memory=123.48 GB>"
      ]
     },
     "execution_count": 6,
     "metadata": {},
     "output_type": "execute_result"
    }
   ],
   "source": [
    "from dask.distributed import Client, progress\n",
    "\n",
    "client = Client()\n",
    "client"
   ]
  },
  {
   "cell_type": "code",
   "execution_count": 8,
   "metadata": {},
   "outputs": [
    {
     "name": "stdout",
     "output_type": "stream",
     "text": [
      "simulname is None\n",
      "args (['polgyr', '[0,10000,0,10000,[1,100,1]]', '3800'],)\n",
      "args[0] ['polgyr', '[0,10000,0,10000,[1,100,1]]', '3800']\n",
      "len(args[0]) 3\n",
      "time of simulation is: 3800\n",
      "coord\n",
      "loading /home/datawork-lops-osi/mlecorre/POLGYR/INIT/polgyr_grd.nc\n",
      "loading /home/datawork-lops-osi/mlecorre/POLGYR/HIS/polgyr_his.03800.nc\n",
      "get domain [0,10000,0,10000,[1,100,1]] [0,10\n",
      "coordmax\n",
      "loading /home/datawork-lops-osi/mlecorre/POLGYR/INIT/polgyr_grd.nc\n",
      "loading /home/datawork-lops-osi/mlecorre/POLGYR/HIS/polgyr_his.03800.nc\n",
      "get domain [0,1e9,0,1e9,[1,1e9,1]] [0,1e\n",
      "cst\n",
      "read Cs_r in ncfile.Cs_r\n",
      "dt\n",
      "dt is read in  /home/datawork-lops-osi/mlecorre/POLGYR/HIS/polgyr_his.03800.nc\n",
      "[0, 1602, 0, 2002, array([ 1,  2,  3,  4,  5,  6,  7,  8,  9, 10, 11, 12, 13, 14, 15, 16, 17,\n",
      "       18, 19, 20, 21, 22, 23, 24, 25, 26, 27, 28, 29, 30, 31, 32, 33, 34,\n",
      "       35, 36, 37, 38, 39, 40, 41, 42, 43, 44, 45, 46, 47, 48, 49, 50, 51,\n",
      "       52, 53, 54, 55, 56, 57, 58, 59, 60, 61, 62, 63, 64, 65, 66, 67, 68,\n",
      "       69, 70, 71, 72, 73, 74, 75, 76, 77, 78, 79, 80])]\n",
      "ncname0,ny1,ny2,nx1,nx2\n",
      "/home/datawork-lops-osi/mlecorre/POLGYR/INIT/polgyr_grd.nc 0 1602 0 2002\n",
      "[topo,pm,pn,f,lat,lon] have just been loaded\n",
      "----------------------------------------------------------\n",
      "All arrays are now Fortran ordered and indices are [i,j,k]\n",
      "----------------------------------------------------------\n",
      "(2002, 1602)\n",
      "time step = 3800.0\n",
      "time of simulation is: 3800\n",
      "/home/datawork-lops-osi/mlecorre/POLGYR/HIS/polgyr_his.03800.nc\n"
     ]
    },
    {
     "ename": "AttributeError",
     "evalue": "'NoneType' object has no attribute 'compute'",
     "output_type": "error",
     "traceback": [
      "\u001b[0;31m---------------------------------------------------------------------------\u001b[0m",
      "\u001b[0;31mAttributeError\u001b[0m                            Traceback (most recent call last)",
      "\u001b[0;32m<timed exec>\u001b[0m in \u001b[0;36m<module>\u001b[0;34m\u001b[0m\n",
      "\u001b[0;31mAttributeError\u001b[0m: 'NoneType' object has no attribute 'compute'"
     ]
    }
   ],
   "source": [
    "%%time\n",
    "if __name__=='__main__':\n",
    "    \n",
    "    small = True\n",
    "    \n",
    "    if small:\n",
    "        part_path = '/home/datawork-lemar-apero/jcollin/pyticles/cfl/'\n",
    "        partfile = part_path + 'uncompressed_substep-cfl0.1-bis_28_3800.nc'\n",
    "    else:\n",
    "        part_path = '/home2/datawork/jcollin/Pyticles/xarray/'\n",
    "        partfile = part_path + 'traj_winter06.nc'\n",
    "    \n",
    "    with Dataset(partfile, 'r') as nc:\n",
    "        ptime = nc.variables['time'][:]\n",
    "    \n",
    "    varname = 'rho1'\n",
    "    my_simul = 'polgyr'\n",
    "    \n",
    "    parameters = my_simul + ' [0,10000,0,10000,[1,100,1]] '+ format(np.int(ptime[0]))\n",
    "    simul = load(simul = parameters, floattype=np.float64)\n",
    "    nx, ny, nz = [simul.coord[1], simul.coord[3], simul.coord[4].size]\n",
    "    \n",
    "    # --> I/O\n",
    "    if small:\n",
    "        chunk_nq = 10\n",
    "        chunk_time = -1\n",
    "    else:\n",
    "        chunk_nq = 1e5\n",
    "        chunk_time = -1\n",
    "\n",
    "    # --> open pyticles file with chunks to spare memory\n",
    "    ds = xr.open_dataset(    \n",
    "        partfile,\n",
    "        chunks={\n",
    "            \"nq\": chunk_nq,\n",
    "            \"time\": chunk_time,\n",
    "        },\n",
    "    )\n",
    "    \n",
    "    # --> ouputs\n",
    "    result_file = part_path + 'traj_seq_' + varname + 'xarray' + '.nc'\n",
    "        \n",
    "    # --> time loop\n",
    "    for tt in np.arange(ptime.size):\n",
    "        print('time step = {}'.format(ptime[tt]))\n",
    "        simul.update(np.round(ptime[tt])) \n",
    "        \n",
    "        # --> get smallest domain with particles (fast loading)\n",
    "        t0 = time.time()\n",
    "        px = ds.px.isel(time=tt).persist()\n",
    "        py = ds.py.isel(time=tt).persist()\n",
    "        pz = ds.pz.isel(time=tt).persist()\n",
    "        \n",
    "        coord = tight_coord(px, py).compute()\n",
    "        print(f\"--> time to load particles position {time.time() - t0} s\")\n",
    "        \n",
    "        t0 = time.time()\n",
    "        var =  xr.DataArray(\n",
    "                va.var(varname, simul, method = 'new', coord=coord).data,\n",
    "                dims=(\"nx\", \"ny\", \"nz\"),\n",
    "                name=varname,\n",
    "        )#.chunk(chunks=)\n",
    "        print(f\"--> time to load {varname} {time.time() - t0} s\")\n",
    "        \n",
    "        t0 = time.time()\n",
    "        pvar = part.map_var(simul, var, px, py, pz, ng=1, coord=coord)\n",
    "            \n",
    "        print(f\"--> time to interpolate {varname} {time.time() - t0} s\")\n",
    "        \n",
    "    t0 = time.time()\n",
    "    dsout = xr.Dataset(\n",
    "        data_vars=dict(\n",
    "            pu=([\"time\", \"nq\"], pu),\n",
    "        ),\n",
    "        coords=ds.coords\n",
    "    )\n",
    "    \n",
    "    dsout.load().to_netcdf(result_file, encoding={'nq': {'dtype': 'i4'}})\n",
    "    print(f\"--> time to write {varname} in netcdf file {time.time() - t0} s\")"
   ]
  },
  {
   "cell_type": "markdown",
   "metadata": {},
   "source": [
    "## gain de temps x3 en gros\n",
    "    CPU times: user 22min 6s, sys: 15.3 s, total: 22min 21s\n",
    "    Wall time: 6min 58s\n",
    "\n",
    "last time step :\n",
    "\n",
    "    --> time to load rho1 0.9064481258392334 s\n",
    "    --> time to interpolate rho1 0.006160259246826172 s\n",
    "    --> time to write rho1 in netcdf file 0.05327153205871582 s"
   ]
  },
  {
   "cell_type": "code",
   "execution_count": 2,
   "metadata": {},
   "outputs": [
    {
     "data": {
      "text/html": [
       "<table style=\"border: 2px solid white;\">\n",
       "<tr>\n",
       "<td style=\"vertical-align: top; border: 0px solid white\">\n",
       "<h3 style=\"text-align: left;\">Client</h3>\n",
       "<ul style=\"text-align: left; list-style: none; margin: 0; padding: 0;\">\n",
       "  <li><b>Scheduler: </b>tcp://127.0.0.1:37571</li>\n",
       "  <li><b>Dashboard: </b><a href='http://127.0.0.1:8787/status' target='_blank'>http://127.0.0.1:8787/status</a></li>\n",
       "</ul>\n",
       "</td>\n",
       "<td style=\"vertical-align: top; border: 0px solid white\">\n",
       "<h3 style=\"text-align: left;\">Cluster</h3>\n",
       "<ul style=\"text-align: left; list-style:none; margin: 0; padding: 0;\">\n",
       "  <li><b>Workers: </b>8</li>\n",
       "  <li><b>Cores: </b>56</li>\n",
       "  <li><b>Memory: </b>123.48 GB</li>\n",
       "</ul>\n",
       "</td>\n",
       "</tr>\n",
       "</table>"
      ],
      "text/plain": [
       "<Client: 'tcp://127.0.0.1:37571' processes=8 threads=56, memory=123.48 GB>"
      ]
     },
     "execution_count": 2,
     "metadata": {},
     "output_type": "execute_result"
    }
   ],
   "source": [
    "import xarray as xr\n",
    "from dask.distributed import Client, progress\n",
    "\n",
    "client = Client()\n",
    "client\n"
   ]
  },
  {
   "cell_type": "code",
   "execution_count": null,
   "metadata": {},
   "outputs": [],
   "source": [
    "small = False\n",
    "    \n",
    "if small:\n",
    "    part_path = '/home/datawork-lemar-apero/jcollin/pyticles/cfl/'\n",
    "    partfile = part_path + 'uncompressed_substep-cfl0.1-bis_28_3800.nc'\n",
    "else:\n",
    "    part_path = '/home2/datawork/jcollin/Pyticles/xarray/'\n",
    "    partfile = part_path + 'traj_winter06.nc'\n",
    "\n",
    "nprocs = 1\n",
    "varname = 'rho1'\n",
    "# --> ouputs\n",
    "result_file = part_path + 'traj_seq_' + varname + str(nprocs) + '.nc'\n",
    "\n",
    "chunk_nq = 1e5\n",
    "ds = xr.open_dataset(\n",
    "    result_file,\n",
    "    chunks={\n",
    "        \"nq\": chunk_nq,\n",
    "        \"time\": -1,\n",
    "    },\n",
    ")\n",
    "\n"
   ]
  },
  {
   "cell_type": "code",
   "execution_count": 13,
   "metadata": {},
   "outputs": [
    {
     "name": "stdout",
     "output_type": "stream",
     "text": [
      "xarray.Dataset {\n",
      "dimensions:\n",
      "\tnq = 1110162 ;\n",
      "\ttime = 180 ;\n",
      "\n",
      "variables:\n",
      "\tfloat64 rho1(time, nq) ;\n",
      "\n",
      "// global attributes:\n",
      "}"
     ]
    }
   ],
   "source": [
    "ds.info()"
   ]
  },
  {
   "cell_type": "code",
   "execution_count": 12,
   "metadata": {},
   "outputs": [
    {
     "data": {
      "text/plain": [
       "<matplotlib.collections.QuadMesh at 0x2aab6caa1780>"
      ]
     },
     "execution_count": 12,
     "metadata": {},
     "output_type": "execute_result"
    },
    {
     "data": {
      "image/png": "[encoded data removed]",
      "text/plain": [
       "<Figure size 432x288 with 2 Axes>"
      ]
     },
     "metadata": {
      "needs_background": "light"
     },
     "output_type": "display_data"
    }
   ],
   "source": [
    "ds.rho1.plot(vmin=3, vmax=4)"
   ]
  },
  {
   "cell_type": "code",
   "execution_count": null,
   "metadata": {},
   "outputs": [],
   "source": []
  }
 ],
 "metadata": {
  "kernelspec": {
   "display_name": "pyticles_pp",
   "language": "python",
   "name": "pyticles_pp"
  },
  "language_info": {
   "codemirror_mode": {
    "name": "ipython",
    "version": 3
   },
   "file_extension": ".py",
   "mimetype": "text/x-python",
   "name": "python",
   "nbconvert_exporter": "python",
   "pygments_lexer": "ipython3",
   "version": "3.7.2"
  }
 },
 "nbformat": 4,
 "nbformat_minor": 4
}
