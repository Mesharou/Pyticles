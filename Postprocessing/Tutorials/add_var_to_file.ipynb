{
 "cells": [
  {
   "cell_type": "markdown",
   "id": "ce07cf63-c922-4c72-8800-de6a0d47c26f",
   "metadata": {},
   "source": [
    "# Interpolate CROCO variables onto particles position (R_tools/Netcdf4)\n",
    "\n",
    "\n",
    "- Interpolate 3d CROCO variables at particles positions\n",
    "and save it to Pyticles netcdf file.\n",
    "\n",
    "- If Pyticles outputs have a higher frequency than CROCO,\n",
    "a time-linear interpolation is applied.\n",
    "\n",
    "- Both 2D (iso-depth) and 3D Pyticles experiments are supported\n",
    "\n",
    "\n",
    "To run in production mode it is advized to test your code with this notebook,\n",
    "then convert it to Python script (Jupytext/jupyter-nbcvonert...)\n",
    " \n",
    "___\n",
    "     \n",
    " - 18/12/16:\n",
    "     - add capability of computing outputs at subtime-steps period\n",
    "___"
   ]
  },
  {
   "cell_type": "code",
   "execution_count": null,
   "id": "fc65b050",
   "metadata": {},
   "outputs": [],
   "source": [
    "%matplotlib inline"
   ]
  },
  {
   "cell_type": "markdown",
   "id": "2010d8ef",
   "metadata": {
    "cell_marker": "###################################################################################"
   },
   "source": [
    "Load all useful modules"
   ]
  },
  {
   "cell_type": "code",
   "execution_count": 4,
   "id": "cde817f2",
   "metadata": {},
   "outputs": [],
   "source": [
    "#Plotting modules \n",
    "import matplotlib\n",
    "matplotlib.use('Agg') #Choose the backend (needed for plotting inside subprocess)\n",
    "import matplotlib.pyplot as plt\n",
    "\n",
    "#Some standard modules\n",
    "import sys, os\n",
    "import numpy as np\n",
    "import time as tm\n",
    "from netCDF4 import Dataset\n",
    "import multiprocessing as mp\n",
    "import ctypes   \n",
    "\n",
    "#add the Modules folder in your python PATH\n",
    "sys.path.append(\"../Modules/\")\n",
    "\n",
    "#Specific modules needed for pyticles\n",
    "import pyticles_sig_sa as part\n",
    "import pyticles_3d_sig_sa as partF\n",
    "\n",
    "#sys.path.append(\"/home/gula/Desktop/Work_capella/Python/Python_Modules\")\n",
    "#sys.path.append(\"/home/gula/Python_Modules\")\n",
    "#sys.path.append(\"/home2/datawork/jgula/Pyticles/Pyticles_nesea/Modules\") \n",
    "\n",
    "#Simulations (path, data...)\n",
    "from R_files import load\n",
    "from R_netcdf import ionetcdf\n",
    "from R_vars import var\n",
    "\n",
    "# to avoid OSError: [Errno -101] NetCDF: HDF error:\n",
    "os.environ['HDF5_USE_FILE_LOCKING'] = 'FALSE'"
   ]
  },
  {
   "cell_type": "code",
   "execution_count": 5,
   "id": "0c28d8e7-72d2-4ef6-8c55-30a73641f688",
   "metadata": {},
   "outputs": [],
   "source": [
    "# local functions\n",
    "def linear(var1, var2, alpha):\n",
    "    \"Linear interpolation\"\n",
    "    return alpha * var2 + (1 - alpha) * var1"
   ]
  },
  {
   "cell_type": "code",
   "execution_count": 6,
   "id": "3b0bf612",
   "metadata": {},
   "outputs": [],
   "source": [
    "# get Pyticles file\n",
    "ncfile = '/home2/datawork/jcollin/Pyticles/tutorials/polgyr_dynamic_injection_1_1000.nc'\n",
    "meanflow = False"
   ]
  },
  {
   "cell_type": "code",
   "execution_count": 7,
   "id": "ea96432a",
   "metadata": {},
   "outputs": [
    {
     "name": "stdout",
     "output_type": "stream",
     "text": [
      "Loading file\n"
     ]
    }
   ],
   "source": [
    "print('Loading file')\n",
    "with Dataset(ncfile, 'r') as nc:\n",
    "    parameters = nc.simulation\n",
    "    base = nc.base\n",
    "    ng = 0. #nc.ng # ghost points in the horizontal\n",
    "    nq = len(nc.dimensions['nq'])\n",
    "    ntime = len(nc.dimensions['time'])"
   ]
  },
  {
   "cell_type": "markdown",
   "id": "1db2dd4d",
   "metadata": {
    "cell_marker": "###################################################################################"
   },
   "source": [
    "load simulation parameters"
   ]
  },
  {
   "cell_type": "code",
   "execution_count": 8,
   "id": "fffb77cb",
   "metadata": {},
   "outputs": [
    {
     "name": "stdout",
     "output_type": "stream",
     "text": [
      "Loading simul\n",
      "simulname is None\n",
      "args (['polgyr', '[0,15000,0,15000,[1,300,1]]', '1000'],)\n",
      "args[0] ['polgyr', '[0,15000,0,15000,[1,300,1]]', '1000']\n",
      "len(args[0]) 3\n",
      "time of simulation is: 1000\n",
      "coord\n",
      "loading /home/datawork-lops-osi/mlecorre/POLGYR/INIT/polgyr_grd.nc\n",
      "loading /home/datawork-lops-osi/mlecorre/POLGYR/HIS/polgyr_his.01000.nc\n",
      "get domain [0,15000,0,15000,[1,300,1]] [0,15\n",
      "coordmax\n",
      "loading /home/datawork-lops-osi/mlecorre/POLGYR/INIT/polgyr_grd.nc\n",
      "loading /home/datawork-lops-osi/mlecorre/POLGYR/HIS/polgyr_his.01000.nc\n",
      "get domain [0,1e9,0,1e9,[1,1e9,1]] [0,1e\n",
      "cst\n",
      "read Cs_r in ncfile.Cs_r\n",
      "dt\n",
      "dt is read in  /home/datawork-lops-osi/mlecorre/POLGYR/HIS/polgyr_his.01000.nc\n",
      "[0, 1602, 0, 2002, array([ 1,  2,  3,  4,  5,  6,  7,  8,  9, 10, 11, 12, 13, 14, 15, 16, 17,\n",
      "       18, 19, 20, 21, 22, 23, 24, 25, 26, 27, 28, 29, 30, 31, 32, 33, 34,\n",
      "       35, 36, 37, 38, 39, 40, 41, 42, 43, 44, 45, 46, 47, 48, 49, 50, 51,\n",
      "       52, 53, 54, 55, 56, 57, 58, 59, 60, 61, 62, 63, 64, 65, 66, 67, 68,\n",
      "       69, 70, 71, 72, 73, 74, 75, 76, 77, 78, 79, 80])]\n",
      "ncname0,ny1,ny2,nx1,nx2\n",
      "/home/datawork-lops-osi/mlecorre/POLGYR/INIT/polgyr_grd.nc 0 1602 0 2002\n",
      "[topo,pm,pn,f,lat,lon] have just been loaded\n",
      "----------------------------------------------------------\n",
      "All arrays are now Fortran ordered and indices are [i,j,k]\n",
      "----------------------------------------------------------\n",
      "(2002, 1602)\n"
     ]
    }
   ],
   "source": [
    "print('Loading simul')\n",
    "simul = load(simul=parameters)\n",
    "depths = simul.coord[4]"
   ]
  },
  {
   "cell_type": "markdown",
   "id": "555b2779",
   "metadata": {
    "cell_marker": "###################################################################################"
   },
   "source": [
    "get time"
   ]
  },
  {
   "cell_type": "code",
   "execution_count": 9,
   "id": "fdbaf737",
   "metadata": {
    "lines_to_next_cell": 1
   },
   "outputs": [],
   "source": [
    "ocean_time = ionetcdf.get(ncfile, 'ocean_time', simul)\n",
    "\n",
    "# old version (output generated before 16/12/20)\n",
    "#time = np.round(ionetcdf.get(ncfile,'time_int',simul),2)\n",
    "#time += time[2] - time[1]\n",
    "# new version\n",
    "ptime = np.round(ionetcdf.get(ncfile,'time',simul),3)\n",
    "dtime = ptime[1] - ptime[0]\n",
    "nqmx  = nq"
   ]
  },
  {
   "cell_type": "markdown",
   "id": "32fe5410",
   "metadata": {
    "cell_marker": "###################################################################################"
   },
   "source": [
    "Loop on variables"
   ]
  },
  {
   "cell_type": "code",
   "execution_count": 10,
   "id": "a2e5013f",
   "metadata": {
    "collapsed": true,
    "jupyter": {
     "outputs_hidden": true
    }
   },
   "outputs": [
    {
     "name": "stdout",
     "output_type": "stream",
     "text": [
      "0 1000.0\n",
      "time of simulation is: 1000\n",
      "/home/datawork-lops-osi/mlecorre/POLGYR/HIS/polgyr_his.01000.nc\n",
      "filetime, itime 1000.0 0\n",
      "1088 1114 888 914\n",
      "0 1602 0 2002\n",
      "get var....................... 0.8526966571807861\n",
      "interpolate to particules..... 0.00014734268188476562\n",
      "1 1001.0\n",
      "time of simulation is: 1001\n",
      "/home/datawork-lops-osi/mlecorre/POLGYR/HIS/polgyr_his.01000.nc\n",
      "filetime, itime 1001.0 1\n",
      "1087 1114 887 914\n",
      "0 1602 0 2002\n",
      "get var....................... 0.7526721954345703\n",
      "interpolate to particules..... 0.0002989768981933594\n",
      "2 1002.0\n",
      "time of simulation is: 1002\n",
      "/home/datawork-lops-osi/mlecorre/POLGYR/HIS/polgyr_his.01000.nc\n",
      "filetime, itime 1002.0 2\n",
      "1085 1114 886 914\n",
      "0 1602 0 2002\n",
      "get var....................... 0.8190538883209229\n",
      "interpolate to particules..... 0.00016999244689941406\n",
      "3 1003.0\n",
      "time of simulation is: 1003\n",
      "/home/datawork-lops-osi/mlecorre/POLGYR/HIS/polgyr_his.01000.nc\n",
      "filetime, itime 1003.0 3\n",
      "1084 1114 885 914\n",
      "0 1602 0 2002\n",
      "get var....................... 0.8813691139221191\n",
      "interpolate to particules..... 0.00018143653869628906\n",
      "4 1004.0\n",
      "time of simulation is: 1004\n",
      "/home/datawork-lops-osi/mlecorre/POLGYR/HIS/polgyr_his.01000.nc\n",
      "filetime, itime 1004.0 4\n",
      "1082 1114 884 914\n",
      "0 1602 0 2002\n",
      "get var....................... 0.9122049808502197\n",
      "interpolate to particules..... 0.0001850128173828125\n",
      "5 1005.0\n",
      "time of simulation is: 1005\n",
      "/home/datawork-lops-osi/mlecorre/POLGYR/HIS/polgyr_his.01000.nc\n",
      "filetime, itime 1005.0 5\n",
      "1080 1114 884 914\n",
      "0 1602 0 2002\n",
      "get var....................... 0.8244919776916504\n",
      "interpolate to particules..... 0.00023603439331054688\n",
      "6 1006.0\n",
      "time of simulation is: 1006\n",
      "/home/datawork-lops-osi/mlecorre/POLGYR/HIS/polgyr_his.01000.nc\n",
      "filetime, itime 1006.0 6\n",
      "1078 1114 883 914\n",
      "0 1602 0 2002\n",
      "get var....................... 0.8000547885894775\n",
      "interpolate to particules..... 0.00023317337036132812\n",
      "7 1007.0\n",
      "time of simulation is: 1007\n",
      "/home/datawork-lops-osi/mlecorre/POLGYR/HIS/polgyr_his.01000.nc\n",
      "filetime, itime 1007.0 7\n",
      "1077 1114 883 914\n",
      "0 1602 0 2002\n",
      "get var....................... 0.8055191040039062\n",
      "interpolate to particules..... 0.0002484321594238281\n",
      "8 1008.0\n",
      "time of simulation is: 1008\n",
      "/home/datawork-lops-osi/mlecorre/POLGYR/HIS/polgyr_his.01000.nc\n",
      "filetime, itime 1008.0 8\n",
      "1075 1114 883 914\n",
      "0 1602 0 2002\n",
      "get var....................... 0.6849546432495117\n",
      "interpolate to particules..... 0.00022745132446289062\n",
      "9 1009.0\n",
      "time of simulation is: 1009\n",
      "/home/datawork-lops-osi/mlecorre/POLGYR/HIS/polgyr_his.01000.nc\n",
      "filetime, itime 1009.0 9\n",
      "1074 1114 883 914\n",
      "0 1602 0 2002\n",
      "get var....................... 0.9119224548339844\n",
      "interpolate to particules..... 0.0002758502960205078\n",
      "10 1010.0\n",
      "time of simulation is: 1010\n",
      "/home/datawork-lops-osi/mlecorre/POLGYR/HIS/polgyr_his.01000.nc\n",
      "filetime, itime 1010.0 10\n",
      "1072 1114 883 914\n",
      "0 1602 0 2002\n",
      "get var....................... 0.7665841579437256\n",
      "interpolate to particules..... 0.00029730796813964844\n",
      "11 1011.0\n",
      "time of simulation is: 1011\n",
      "/home/datawork-lops-osi/mlecorre/POLGYR/HIS/polgyr_his.01000.nc\n",
      "filetime, itime 1011.0 11\n",
      "1071 1114 883 915\n",
      "0 1602 0 2002\n",
      "get var....................... 0.7944254875183105\n",
      "interpolate to particules..... 0.0005066394805908203\n",
      "12 1012.0\n",
      "time of simulation is: 1012\n",
      "/home/datawork-lops-osi/mlecorre/POLGYR/HIS/polgyr_his.01000.nc\n",
      "filetime, itime 1012.0 12\n",
      "1071 1114 883 916\n",
      "0 1602 0 2002\n",
      "get var....................... 0.9462053775787354\n",
      "interpolate to particules..... 0.0003161430358886719\n",
      "13 1013.0\n",
      "time of simulation is: 1013\n",
      "/home/datawork-lops-osi/mlecorre/POLGYR/HIS/polgyr_his.01000.nc\n",
      "filetime, itime 1013.0 13\n",
      "1070 1114 883 918\n",
      "0 1602 0 2002\n",
      "get var....................... 0.7532298564910889\n",
      "interpolate to particules..... 0.00032806396484375\n"
     ]
    }
   ],
   "source": [
    "#for varname in ['u','v','rho1','temp','salt']:\n",
    "for varname in ['rho1']:\n",
    "    pvar = np.zeros(nq)\n",
    "    pvarname = 'p' + varname\n",
    "    \n",
    "    nc = Dataset(ncfile, 'a')\n",
    "    if pvarname not in list(nc.variables.keys()): \n",
    "        nc.createVariable(pvarname, 'd', ('time','nq',))\n",
    "    nc.close\n",
    "\n",
    "    ###################################################################################\n",
    "    # loop on Pyticles time indices\n",
    "    # alpha time manage Pyticles experiment with higher frequency outputs than CROCO\n",
    "    ###################################################################################\n",
    "    for filetime in ptime[:]:\n",
    "        itime = int(np.abs(ptime[0] - filetime) / np.abs(dtime))\n",
    "        print(itime, ptime[itime])\n",
    "        if not meanflow: simul.update(np.floor(filetime));\n",
    "        \n",
    "        alpha_time = filetime - np.floor(filetime)\n",
    "        \n",
    "        ###############################################################################\n",
    "        # Get positions (px,py,pz) from pyticle file\n",
    "        ###############################################################################\n",
    "        px = ionetcdf.get(ncfile, 'px', simul, time=itime)\n",
    "        py = ionetcdf.get(ncfile, 'py', simul, time=itime)\n",
    "\n",
    "        try:\n",
    "            adv3d = False\n",
    "            nc = Dataset(ncfile, 'r')\n",
    "            advdepth = nc.depth\n",
    "            nc.close()\n",
    "        except:\n",
    "            adv3d = True\n",
    "            pz = ionetcdf.get(ncfile, 'pz', simul, time=itime)\n",
    "\n",
    "        print('filetime, itime', filetime, itime)\n",
    "\n",
    "        coord = part.subsection(px, py, ny=simul.coord[1],\n",
    "                                nx=simul.coord[3], offset=10)\n",
    "        tstart = tm.time()\n",
    "\n",
    "        ######################################################################\n",
    "        # Get var from simulation file\n",
    "        ######################################################################\n",
    "        #compute your variable here:\n",
    "        if adv3d:\n",
    "            myvar = var(varname, simul, coord=coord).data\n",
    "        else:\n",
    "            myvar = var(varname, simul, depths=[advdepth], coord=coord).data\n",
    "        \n",
    "        if not meanflow and alpha_time != 0:\n",
    "            simul.update(np.ceil(filetime))\n",
    "            if adv3d:\n",
    "                myvar2 = var(varname, simul, coord=coord).data\n",
    "            else:\n",
    "                myvar2 = var(varname, simul, depth=[advdepth], coord=coord).data\n",
    "            \n",
    "            simul.update(np.floor(filetime))\n",
    "            myvar = linear(myvar, myvar2, alpha_time)\n",
    "            del myvar2\n",
    "        \n",
    "        ######################################################################\n",
    "        print('get var.......................', tm.time()-tstart)\n",
    "        tstart = tm.time()\n",
    "        \n",
    "        #if ng>0:\n",
    "        #    myvar = part.periodize3d_fromvar(simul,myvar,coord,\n",
    "        #               x_periodic=x_periodic,y_periodic=y_periodic,ng=ng)\n",
    "\n",
    "        ######################################################################\n",
    "        # Interpolate var to particles positions (px,py,pz)\n",
    "        ######################################################################\n",
    "        if adv3d:\n",
    "            pvar = part.map_var(simul, myvar, px, py, pz, ng, coord=coord)\n",
    "        else:\n",
    "            pvar = part.map_var2d(simul, myvar, px, py, ng, coord=coord) \n",
    "\n",
    "        print('interpolate to particules.....', tm.time()-tstart)\n",
    "        tstart = tm.time() \n",
    "\n",
    "        ######################################################################\n",
    "        # write in file\n",
    "        # for older netcdf version use \n",
    "        #  with Dataset(ncfile, 'a') as nc:\n",
    "        ######################################################################\n",
    "        with Dataset(ncfile, 'a', format='NETCDF4') as nc:\n",
    "            nc.variables[pvarname][itime, :] = pvar\n",
    "            "
   ]
  }
 ],
 "metadata": {
  "jupytext": {
   "cell_metadata_filter": "-all",
   "executable": "/usr/bin/env python",
   "notebook_metadata_filter": "-all"
  },
  "kernelspec": {
   "display_name": "pyticles-pp-3.11",
   "language": "python",
   "name": "pyticles-pp-3.11"
  },
  "language_info": {
   "codemirror_mode": {
    "name": "ipython",
    "version": 3
   },
   "file_extension": ".py",
   "mimetype": "text/x-python",
   "name": "python",
   "nbconvert_exporter": "python",
   "pygments_lexer": "ipython3",
   "version": "3.11.6"
  }
 },
 "nbformat": 4,
 "nbformat_minor": 5
}
